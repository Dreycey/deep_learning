{
 "cells": [
  {
   "cell_type": "markdown",
   "metadata": {},
   "source": [
    "# Recurrent Neural Networks (RNNs)\n",
    "\n",
    "This notebook contains examples of using RNNs for classification and regression."
   ]
  },
  {
   "cell_type": "code",
   "execution_count": 1,
   "metadata": {},
   "outputs": [],
   "source": [
    "from datasets import list_datasets, load_dataset"
   ]
  },
  {
   "cell_type": "code",
   "execution_count": 2,
   "metadata": {},
   "outputs": [],
   "source": [
    "import nlp\n",
    "import numpy as np\n",
    "import tensorflow as tf\n",
    "from tensorflow.keras.layers.experimental.preprocessing import TextVectorization\n",
    "from tensorflow.keras.utils import to_categorical\n",
    "from tensorflow.keras import layers, Input, Model\n",
    "\n",
    "# Keras imports\n",
    "from tensorflow.keras.layers import Embedding\n",
    "from tensorflow.keras.initializers import Constant\n",
    "from tensorflow.keras.models import Sequential\n",
    "from tensorflow.keras.layers import Dense, Dropout, LSTM, Bidirectional, SimpleRNN, GRU\n",
    "from tensorflow.keras.callbacks import ModelCheckpoint\n",
    "\n",
    "# metrics\n",
    "from sklearn.metrics import recall_score\n",
    "from sklearn.metrics import precision_score\n",
    "from sklearn.metrics import confusion_matrix\n",
    "\n",
    "# word2vec\n",
    "from gensim.scripts.glove2word2vec import glove2word2vec\n",
    "from gensim.models import KeyedVectors"
   ]
  },
  {
   "cell_type": "code",
   "execution_count": 3,
   "metadata": {},
   "outputs": [
    {
     "data": {
      "text/plain": [
       "'2.8.0'"
      ]
     },
     "execution_count": 3,
     "metadata": {},
     "output_type": "execute_result"
    }
   ],
   "source": [
    "# versions of libraries - noticed problems with Text vecotrization in lower versions\n",
    "tf.__version__"
   ]
  },
  {
   "cell_type": "markdown",
   "metadata": {},
   "source": [
    "## Loading Dataset\n",
    "\n",
    "Here I am using a poem sentiment dataset under the category of sentiment-classification on huggingface. "
   ]
  },
  {
   "cell_type": "code",
   "execution_count": 4,
   "metadata": {},
   "outputs": [
    {
     "name": "stderr",
     "output_type": "stream",
     "text": [
      "Using custom data configuration default\n",
      "Reusing dataset poem_sentiment (/Users/dreyceyalbin/.cache/huggingface/datasets/poem_sentiment/default/1.0.0/4e44428256d42cdde0be6b3db1baa587195e91847adabf976e4f9454f6a82099)\n"
     ]
    },
    {
     "data": {
      "application/vnd.jupyter.widget-view+json": {
       "model_id": "5730de7b3afe4b88bc28cf0216043621",
       "version_major": 2,
       "version_minor": 0
      },
      "text/plain": [
       "  0%|          | 0/3 [00:00<?, ?it/s]"
      ]
     },
     "metadata": {},
     "output_type": "display_data"
    }
   ],
   "source": [
    "# load dataset (X-tweets; Y-emotion)\n",
    "\n",
    "#####\n",
    "# DATA - https://huggingface.co/datasets/poem_sentiment\n",
    "#####\n",
    "dataset = load_dataset(\"poem_sentiment\")\n",
    "\n",
    "#dataset = load_dataset(\"emotion\")\n",
    "\n",
    "# load different datasets\n",
    "train = dataset['train']\n",
    "test = dataset['test']\n",
    "val = dataset['validation']"
   ]
  },
  {
   "cell_type": "code",
   "execution_count": 26,
   "metadata": {},
   "outputs": [
    {
     "name": "stdout",
     "output_type": "stream",
     "text": [
      "count of 0 label in data set is 155\n",
      "count of 1 label in data set is 133\n",
      "count of 2 label in data set is 555\n",
      "count of 3 label in data set is 49\n",
      "count of 0 label in data set is 155\n",
      "count of 1 label in data set is 133\n",
      "count of 2 label in data set is 156\n",
      "count of 3 label in data set is 49\n"
     ]
    }
   ],
   "source": [
    "###\n",
    "# Data preperation\n",
    "###\n",
    "index2meaning = {0 : \"negative\",\n",
    "                 1 : \"positive\",\n",
    "                 2 : \"no_impact\",\n",
    "                 3 : \"mixed\"}\n",
    "## training data\n",
    "train_samples = [x['verse_text'] for x in train]\n",
    "train_labels = np.array([x['label'] for x in train]) # already numerical\n",
    "## validation data\n",
    "val_samples = [x['verse_text'] for x in val]\n",
    "val_labels = np.array([x['label'] for x in val]) # already numerical\n",
    "## test data\n",
    "test_samples = [x['verse_text'] for x in test]\n",
    "test_labels = np.array([x['label'] for x in test]) # already numerical\n",
    "\n",
    "# obtain class balance data\n",
    "print(f\"count of 0 label in data set is {sum(train_labels == 0)}\")\n",
    "print(f\"count of 1 label in data set is {sum(train_labels == 1)}\")\n",
    "print(f\"count of 2 label in data set is {sum(train_labels == 2)}\")\n",
    "print(f\"count of 3 label in data set is {sum(train_labels == 3)}\")\n",
    "\n",
    "\n",
    "# clean dataset\n",
    "train_samples_cleaned = []\n",
    "train_labels_cleaned = []\n",
    "count_dict = {0 : 0, 1:0, 2:0, 3:0}\n",
    "for index, value in enumerate(train_labels):\n",
    "    value = int(value)\n",
    "    if count_dict[value] <= 155:\n",
    "        train_samples_cleaned.append(train_samples[index])\n",
    "        train_labels_cleaned.append(train_labels[index])\n",
    "    count_dict[value] += 1\n",
    "    \n",
    "# clean original values\n",
    "train_samples = np.array(train_samples_cleaned.copy())\n",
    "train_labels = np.array(train_labels_cleaned.copy())\n",
    "\n",
    "# obtain class balance data\n",
    "print(f\"count of 0 label in data set is {sum(train_labels == 0)}\")\n",
    "print(f\"count of 1 label in data set is {sum(train_labels == 1)}\")\n",
    "print(f\"count of 2 label in data set is {sum(train_labels == 2)}\")\n",
    "print(f\"count of 3 label in data set is {sum(train_labels == 3)}\")\n"
   ]
  },
  {
   "cell_type": "code",
   "execution_count": 6,
   "metadata": {},
   "outputs": [],
   "source": [
    "# Create vectorizer to tokenize sentences.\n",
    "\n",
    "# parameters\n",
    "EMBEDDED_VEC_LENGTH = 100\n",
    "MAX_VOCABULARY = 10000\n",
    "# vectorize\n",
    "vectorizer = TextVectorization(max_tokens=MAX_VOCABULARY, \n",
    "                               output_sequence_length=EMBEDDED_VEC_LENGTH, \n",
    "                               output_mode='int')\n",
    "text_ds = tf.data.Dataset.from_tensor_slices(train_samples).batch(128) ## Read batches of 128 samples\n",
    "vectorizer.adapt(text_ds)"
   ]
  },
  {
   "cell_type": "code",
   "execution_count": 7,
   "metadata": {},
   "outputs": [
    {
     "name": "stdout",
     "output_type": "stream",
     "text": [
      "2323\n"
     ]
    }
   ],
   "source": [
    "## Print out top five words in the vocab\n",
    "print(len(vectorizer.get_vocabulary())) ## We set max_tokens=10000\n",
    "vectorizer.get_vocabulary()[:5]\n",
    "## Text an example of what a string looks like after vectorization\n",
    "output = vectorizer([[\"I feel good today again\"]])"
   ]
  },
  {
   "cell_type": "code",
   "execution_count": 8,
   "metadata": {},
   "outputs": [],
   "source": [
    "## Create a map to get the unique list of the vocabulary\n",
    "#####\n",
    "# COPIED FROM LECTURE\n",
    "####\n",
    "voc = vectorizer.get_vocabulary()\n",
    "word_index = dict(zip(voc, range(len(voc))))"
   ]
  },
  {
   "cell_type": "code",
   "execution_count": 9,
   "metadata": {},
   "outputs": [
    {
     "name": "stdout",
     "output_type": "stream",
     "text": [
      "[[  10 1323  628 ...    0    0    0]\n",
      " [  13 1787   27 ...    0    0    0]\n",
      " [   3    9   15 ...    0    0    0]\n",
      " ...\n",
      " [ 180  762 1523 ...    0    0    0]\n",
      " [  53 1737   19 ...    0    0    0]\n",
      " [   7    2  188 ...    0    0    0]]\n"
     ]
    }
   ],
   "source": [
    "## Vectorize our data (Convert the string data to integer data)\n",
    "\n",
    "# Feature vectors\n",
    "x_train = vectorizer(np.array([[s] for s in train_samples])).numpy()\n",
    "x_val = vectorizer(np.array([[s] for s in val_samples])).numpy()\n",
    "x_test = vectorizer(np.array([[s] for s in test_samples])).numpy()\n",
    "\n",
    "print(x_train)\n",
    "# Labels (not categorical!)\n",
    "CATEGORICAL = False\n",
    "if CATEGORICAL:\n",
    "    y_train = to_categorical(train_labels)\n",
    "    y_val = to_categorical(val_labels)\n",
    "    y_test = to_categorical(test_labels)\n",
    "else: \n",
    "    y_train = np.array(train_labels)\n",
    "    y_val = np.array(val_labels)\n",
    "    y_test = np.array(test_labels)"
   ]
  },
  {
   "cell_type": "code",
   "execution_count": 10,
   "metadata": {},
   "outputs": [],
   "source": [
    "# Make sure data has correct shape\n",
    "# reshape into [samples, timesteps, features]\n",
    "\n",
    "# x_train_no_emb = np.reshape(x_train, (len(x_train), EMBEDDED_VEC_LENGTH, 1)) / float(len(voc))\n",
    "# x_val_no_emb = np.reshape(x_val, (len(x_val), EMBEDDED_VEC_LENGTH, 1)) / float(len(voc))\n",
    "# x_test_no_emb = np.reshape(x_test, (len(x_test), EMBEDDED_VEC_LENGTH, 1)) / float(len(voc))\n",
    "\n",
    "\n",
    "x_train_no_emb = np.reshape(x_train, (len(x_train), EMBEDDED_VEC_LENGTH, 1))\n",
    "x_val_no_emb = np.reshape(x_val, (len(x_val), EMBEDDED_VEC_LENGTH, 1)) \n",
    "x_test_no_emb = np.reshape(x_test, (len(x_test), EMBEDDED_VEC_LENGTH, 1))"
   ]
  },
  {
   "cell_type": "code",
   "execution_count": 11,
   "metadata": {},
   "outputs": [
    {
     "data": {
      "text/plain": [
       "array([[[  10],\n",
       "        [1323],\n",
       "        [ 628],\n",
       "        ...,\n",
       "        [   0],\n",
       "        [   0],\n",
       "        [   0]],\n",
       "\n",
       "       [[  13],\n",
       "        [1787],\n",
       "        [  27],\n",
       "        ...,\n",
       "        [   0],\n",
       "        [   0],\n",
       "        [   0]],\n",
       "\n",
       "       [[   3],\n",
       "        [   9],\n",
       "        [  15],\n",
       "        ...,\n",
       "        [   0],\n",
       "        [   0],\n",
       "        [   0]],\n",
       "\n",
       "       ...,\n",
       "\n",
       "       [[ 180],\n",
       "        [ 762],\n",
       "        [1523],\n",
       "        ...,\n",
       "        [   0],\n",
       "        [   0],\n",
       "        [   0]],\n",
       "\n",
       "       [[  53],\n",
       "        [1737],\n",
       "        [  19],\n",
       "        ...,\n",
       "        [   0],\n",
       "        [   0],\n",
       "        [   0]],\n",
       "\n",
       "       [[   7],\n",
       "        [   2],\n",
       "        [ 188],\n",
       "        ...,\n",
       "        [   0],\n",
       "        [   0],\n",
       "        [   0]]])"
      ]
     },
     "execution_count": 11,
     "metadata": {},
     "output_type": "execute_result"
    }
   ],
   "source": [
    "x_train_no_emb"
   ]
  },
  {
   "cell_type": "markdown",
   "metadata": {},
   "source": [
    "## Split Testing into short, medium, and long"
   ]
  },
  {
   "cell_type": "code",
   "execution_count": 12,
   "metadata": {},
   "outputs": [
    {
     "name": "stdout",
     "output_type": "stream",
     "text": [
      "short count = 40\n",
      "medium count = 24\n",
      "long count = 40\n",
      "[1, 2, 2, 2, 0, 1, 2, 2, 0, 2, 0, 1, 2, 0, 2, 1, 2, 0, 0, 0, 2, 1, 1, 2, 2, 2, 0, 2, 1, 0, 2, 2, 2, 2, 0, 2, 2, 2, 2, 2]\n"
     ]
    },
    {
     "data": {
      "image/png": "[encoded data removed]",
      "text/plain": [
       "<Figure size 432x288 with 1 Axes>"
      ]
     },
     "metadata": {
      "needs_background": "light"
     },
     "output_type": "display_data"
    }
   ],
   "source": [
    "import matplotlib.pyplot as plt\n",
    "\n",
    "# get number of non-zero entries\n",
    "num_emb_word_entries = np.count_nonzero(x_test, axis=1)\n",
    "\n",
    "# plot histogram to get cutoffs\n",
    "plt.title(\"Number of words\")\n",
    "plt.hist(num_emb_word_entries, color='orange', edgecolor='black')\n",
    "plt.ylabel(\"Number of Sentences with word count\")\n",
    "plt.ylabel(\"Number of words\")\n",
    "\n",
    "# split based on visual cutoffs\n",
    "short_max, medium_max = 6, 8\n",
    "x_short = []\n",
    "y_short = []\n",
    "x_medium = []\n",
    "y_medium = []\n",
    "x_long = []\n",
    "y_long = []\n",
    "\n",
    "for index, num_emb_words in enumerate(num_emb_word_entries):\n",
    "    current_word = x_test_no_emb[index]\n",
    "    current_sentiment = y_test[index]\n",
    "    if num_emb_words <= short_max:\n",
    "        x_short.append(current_word)\n",
    "        y_short.append(current_sentiment)\n",
    "    elif (num_emb_words > short_max) and (num_emb_words < medium_max):\n",
    "        x_medium.append(current_word)\n",
    "        y_medium.append(current_sentiment)\n",
    "    else:\n",
    "        x_long.append(current_word)\n",
    "        y_long.append(current_sentiment)\n",
    "        \n",
    "print(f\"short count = {len(x_short)}\")\n",
    "print(f\"medium count = {len(x_medium)}\")\n",
    "print(f\"long count = {len(x_long)}\")\n",
    "\n",
    "print(y_long)\n",
    "\n",
    "# x_short = np.reshape(x_short, (len(x_short), EMBEDDED_VEC_LENGTH, 1)) / len(voc)\n",
    "# x_medium = np.reshape(x_medium, (len(x_medium), EMBEDDED_VEC_LENGTH, 1)) / len(voc)\n",
    "# x_long = np.reshape(x_long, (len(x_long), EMBEDDED_VEC_LENGTH, 1)) / len(voc)"
   ]
  },
  {
   "cell_type": "markdown",
   "metadata": {},
   "source": [
    "# MODEL CREATION - No Embedding\n",
    "This section outline creating models.\n",
    "\n",
    "The following are created:\n",
    "\n",
    "    1. Simple RNN\n",
    "    2. LSTM\n",
    "    3. GRU"
   ]
  },
  {
   "cell_type": "code",
   "execution_count": 13,
   "metadata": {},
   "outputs": [
    {
     "name": "stdout",
     "output_type": "stream",
     "text": [
      "Model: \"sequential\"\n",
      "_________________________________________________________________\n",
      " Layer (type)                Output Shape              Param #   \n",
      "=================================================================\n",
      " simple_rnn (SimpleRNN)      (None, 20)                440       \n",
      "                                                                 \n",
      " dropout (Dropout)           (None, 20)                0         \n",
      "                                                                 \n",
      " dense (Dense)               (None, 100)               2100      \n",
      "                                                                 \n",
      " dense_1 (Dense)             (None, 4)                 404       \n",
      "                                                                 \n",
      "=================================================================\n",
      "Total params: 2,944\n",
      "Trainable params: 2,944\n",
      "Non-trainable params: 0\n",
      "_________________________________________________________________\n",
      "Model: \"sequential_1\"\n",
      "_________________________________________________________________\n",
      " Layer (type)                Output Shape              Param #   \n",
      "=================================================================\n",
      " lstm (LSTM)                 (None, 20)                1760      \n",
      "                                                                 \n",
      " dropout_1 (Dropout)         (None, 20)                0         \n",
      "                                                                 \n",
      " dense_2 (Dense)             (None, 100)               2100      \n",
      "                                                                 \n",
      " dense_3 (Dense)             (None, 4)                 404       \n",
      "                                                                 \n",
      "=================================================================\n",
      "Total params: 4,264\n",
      "Trainable params: 4,264\n",
      "Non-trainable params: 0\n",
      "_________________________________________________________________\n",
      "Model: \"sequential_2\"\n",
      "_________________________________________________________________\n",
      " Layer (type)                Output Shape              Param #   \n",
      "=================================================================\n",
      " gru (GRU)                   (None, 20)                1380      \n",
      "                                                                 \n",
      " dropout_2 (Dropout)         (None, 20)                0         \n",
      "                                                                 \n",
      " dense_4 (Dense)             (None, 100)               2100      \n",
      "                                                                 \n",
      " dense_5 (Dense)             (None, 4)                 404       \n",
      "                                                                 \n",
      "=================================================================\n",
      "Total params: 3,884\n",
      "Trainable params: 3,884\n",
      "Non-trainable params: 0\n",
      "_________________________________________________________________\n"
     ]
    }
   ],
   "source": [
    "######\n",
    "# Simple RNN\n",
    "######\n",
    "model_rnn = Sequential()\n",
    "model_rnn.add(SimpleRNN(20, input_shape=(x_train_no_emb.shape[1], x_train_no_emb.shape[2])))\n",
    "model_rnn.add(Dropout(0.2))\n",
    "model_rnn.add(Dense(100))\n",
    "model_rnn.add(Dense(len(set(train_labels)), activation='softmax'))\n",
    "model_rnn.summary()\n",
    "\n",
    "######\n",
    "# LSTM\n",
    "######\n",
    "model_lstm = Sequential()\n",
    "model_lstm.add(LSTM(20, input_shape=(x_train_no_emb.shape[1], x_train_no_emb.shape[2])))\n",
    "model_lstm.add(Dropout(0.2))\n",
    "model_lstm.add(Dense(100))\n",
    "model_lstm.add(Dense(len(set(train_labels)), activation='softmax'))\n",
    "model_lstm.summary()\n",
    "\n",
    "######\n",
    "# GRU\n",
    "######\n",
    "model_gru = Sequential()\n",
    "model_gru.add(GRU(20, input_shape=(x_train_no_emb.shape[1], x_train_no_emb.shape[2])))\n",
    "model_gru.add(Dropout(0.2))\n",
    "model_gru.add(Dense(100))\n",
    "model_gru.add(Dense(len(set(train_labels)), activation='softmax'))\n",
    "model_gru.summary()"
   ]
  },
  {
   "cell_type": "code",
   "execution_count": 14,
   "metadata": {},
   "outputs": [
    {
     "name": "stdout",
     "output_type": "stream",
     "text": [
      "Epoch 1/10\n",
      "9/9 [==============================] - 1s 11ms/step - loss: 1.2572 - acc: 0.5639\n",
      "Epoch 2/10\n",
      "9/9 [==============================] - 0s 11ms/step - loss: 1.0761 - acc: 0.6222\n",
      "Epoch 3/10\n",
      "9/9 [==============================] - 0s 10ms/step - loss: 1.0582 - acc: 0.6222\n",
      "Epoch 4/10\n",
      "9/9 [==============================] - 0s 11ms/step - loss: 1.0404 - acc: 0.6222\n",
      "Epoch 5/10\n",
      "9/9 [==============================] - 0s 10ms/step - loss: 1.0455 - acc: 0.6211\n",
      "Epoch 6/10\n",
      "9/9 [==============================] - 0s 11ms/step - loss: 1.0426 - acc: 0.6222\n",
      "Epoch 7/10\n",
      "9/9 [==============================] - 0s 11ms/step - loss: 1.0295 - acc: 0.6222\n",
      "Epoch 8/10\n",
      "9/9 [==============================] - 0s 11ms/step - loss: 1.0334 - acc: 0.6233\n",
      "Epoch 9/10\n",
      "9/9 [==============================] - 0s 11ms/step - loss: 1.0380 - acc: 0.6256\n",
      "Epoch 10/10\n",
      "9/9 [==============================] - 0s 11ms/step - loss: 1.0311 - acc: 0.6233\n",
      "Epoch 1/10\n",
      "9/9 [==============================] - 1s 22ms/step - loss: 1.3571 - acc: 0.5661\n",
      "Epoch 2/10\n",
      "9/9 [==============================] - 0s 22ms/step - loss: 1.2685 - acc: 0.6222\n",
      "Epoch 3/10\n",
      "9/9 [==============================] - 0s 23ms/step - loss: 1.1480 - acc: 0.6222\n",
      "Epoch 4/10\n",
      "9/9 [==============================] - 0s 22ms/step - loss: 1.0836 - acc: 0.6222\n",
      "Epoch 5/10\n",
      "9/9 [==============================] - 0s 22ms/step - loss: 1.0618 - acc: 0.6222\n",
      "Epoch 6/10\n",
      "9/9 [==============================] - 0s 22ms/step - loss: 1.0494 - acc: 0.6222\n",
      "Epoch 7/10\n",
      "9/9 [==============================] - 0s 22ms/step - loss: 1.0419 - acc: 0.6222\n",
      "Epoch 8/10\n",
      "9/9 [==============================] - 0s 23ms/step - loss: 1.0505 - acc: 0.6222\n",
      "Epoch 9/10\n",
      "9/9 [==============================] - 0s 23ms/step - loss: 1.0456 - acc: 0.6222\n",
      "Epoch 10/10\n",
      "9/9 [==============================] - 0s 23ms/step - loss: 1.0440 - acc: 0.6222\n",
      "Epoch 1/10\n",
      "9/9 [==============================] - 2s 28ms/step - loss: 1.3504 - acc: 0.5639\n",
      "Epoch 2/10\n",
      "9/9 [==============================] - 0s 27ms/step - loss: 1.2436 - acc: 0.6222\n",
      "Epoch 3/10\n",
      "9/9 [==============================] - 0s 26ms/step - loss: 1.1136 - acc: 0.6222\n",
      "Epoch 4/10\n",
      "9/9 [==============================] - 0s 27ms/step - loss: 1.0627 - acc: 0.6222\n",
      "Epoch 5/10\n",
      "9/9 [==============================] - 0s 26ms/step - loss: 1.0556 - acc: 0.6222\n",
      "Epoch 6/10\n",
      "9/9 [==============================] - 0s 27ms/step - loss: 1.0532 - acc: 0.6222\n",
      "Epoch 7/10\n",
      "9/9 [==============================] - 0s 26ms/step - loss: 1.0478 - acc: 0.6222\n",
      "Epoch 8/10\n",
      "9/9 [==============================] - 0s 26ms/step - loss: 1.0447 - acc: 0.6222\n",
      "Epoch 9/10\n",
      "9/9 [==============================] - 0s 27ms/step - loss: 1.0427 - acc: 0.6222\n",
      "Epoch 10/10\n",
      "9/9 [==============================] - 0s 26ms/step - loss: 1.0440 - acc: 0.6222\n"
     ]
    }
   ],
   "source": [
    "MODELS = {\"model_rnn\" : model_rnn,\n",
    "          \"model_lstm\" : model_lstm,\n",
    "          \"model_gru\" : model_gru\n",
    "         }\n",
    "\n",
    "for model_name, model in MODELS.items():\n",
    "    ## Train the model \n",
    "    model.compile(loss=\"sparse_categorical_crossentropy\", optimizer=\"adam\", metrics=[\"acc\"])\n",
    "    model.fit(x_train_no_emb, y_train, batch_size=100, epochs=10)"
   ]
  },
  {
   "cell_type": "code",
   "execution_count": 15,
   "metadata": {},
   "outputs": [
    {
     "name": "stdout",
     "output_type": "stream",
     "text": [
      "4/4 [==============================] - 0s 5ms/step - loss: 0.9227 - acc: 0.6635\n",
      "recall : 0.6634615384615384; precisicion : 0.6634615384615384\n",
      "4/4 [==============================] - 0s 5ms/step - loss: 0.9282 - acc: 0.6635\n",
      "recall : 0.6634615384615384; precisicion : 0.6634615384615384\n",
      "4/4 [==============================] - 0s 4ms/step - loss: 0.9267 - acc: 0.6635\n",
      "recall : 0.6634615384615384; precisicion : 0.6634615384615384\n"
     ]
    }
   ],
   "source": [
    "# test the models\n",
    "for model_name, model in MODELS.items():\n",
    "    # obtain metrics\n",
    "    accuracy = model.evaluate(x_test_no_emb, y_test, return_dict=True)['acc']\n",
    "    predictions = np.argmax(model.predict(x_test_no_emb), axis=1)\n",
    "    recall = recall_score(predictions, y_test, average='micro')\n",
    "    precision = precision_score(predictions, y_test, average='micro')\n",
    "    \n",
    "    print(f\"recall : {recall}; precisicion : {precision}\")"
   ]
  },
  {
   "cell_type": "code",
   "execution_count": 16,
   "metadata": {},
   "outputs": [
    {
     "name": "stdout",
     "output_type": "stream",
     "text": [
      "2/2 [==============================] - 0s 5ms/step - loss: 0.7543 - acc: 0.7750\n",
      "test index : 0\n",
      "recall : 0.775; precisicion : 0.775\n",
      "predicted : [2 2 2 2 2 2 2 2 2 2 2 2 2 2 2 2 2 2 2 2 2 2 2 2 2 2 2 2 2 2 2 2 2 2 2 2 2\n",
      " 2 2 2]\n",
      "truth : [2 2 2 0 0 2 2 2 2 2 0 2 0 2 2 1 2 2 2 2 2 2 0 2 2 0 2 2 2 1 2 2 2 2 0 2 2\n",
      " 2 2 2]\n",
      "2/2 [==============================] - 0s 4ms/step - loss: 0.7754 - acc: 0.7750\n",
      "test index : 0\n",
      "recall : 0.775; precisicion : 0.775\n",
      "predicted : [2 2 2 2 2 2 2 2 2 2 2 2 2 2 2 2 2 2 2 2 2 2 2 2 2 2 2 2 2 2 2 2 2 2 2 2 2\n",
      " 2 2 2]\n",
      "truth : [2 2 2 0 0 2 2 2 2 2 0 2 0 2 2 1 2 2 2 2 2 2 0 2 2 0 2 2 2 1 2 2 2 2 0 2 2\n",
      " 2 2 2]\n",
      "2/2 [==============================] - 0s 5ms/step - loss: 0.7690 - acc: 0.7750\n",
      "test index : 0\n",
      "recall : 0.775; precisicion : 0.775\n",
      "predicted : [2 2 2 2 2 2 2 2 2 2 2 2 2 2 2 2 2 2 2 2 2 2 2 2 2 2 2 2 2 2 2 2 2 2 2 2 2\n",
      " 2 2 2]\n",
      "truth : [2 2 2 0 0 2 2 2 2 2 0 2 0 2 2 1 2 2 2 2 2 2 0 2 2 0 2 2 2 1 2 2 2 2 0 2 2\n",
      " 2 2 2]\n",
      "1/1 [==============================] - 0s 18ms/step - loss: 1.0007 - acc: 0.6250\n",
      "test index : 1\n",
      "recall : 0.625; precisicion : 0.625\n",
      "predicted : [2 2 2 2 2 2 2 2 2 2 2 2 2 2 2 2 2 2 2 2 2 2 2 2]\n",
      "truth : [2 2 1 2 2 1 2 1 1 2 0 2 2 2 2 1 2 2 2 2 0 1 1 2]\n",
      "1/1 [==============================] - 0s 19ms/step - loss: 0.9971 - acc: 0.6250\n",
      "test index : 1\n",
      "recall : 0.625; precisicion : 0.625\n",
      "predicted : [2 2 2 2 2 2 2 2 2 2 2 2 2 2 2 2 2 2 2 2 2 2 2 2]\n",
      "truth : [2 2 1 2 2 1 2 1 1 2 0 2 2 2 2 1 2 2 2 2 0 1 1 2]\n",
      "1/1 [==============================] - 0s 19ms/step - loss: 0.9961 - acc: 0.6250\n",
      "test index : 1\n",
      "recall : 0.625; precisicion : 0.625\n",
      "predicted : [2 2 2 2 2 2 2 2 2 2 2 2 2 2 2 2 2 2 2 2 2 2 2 2]\n",
      "truth : [2 2 1 2 2 1 2 1 1 2 0 2 2 2 2 1 2 2 2 2 0 1 1 2]\n",
      "2/2 [==============================] - 0s 6ms/step - loss: 1.0443 - acc: 0.5750\n",
      "test index : 2\n",
      "recall : 0.575; precisicion : 0.575\n",
      "predicted : [2 2 2 2 2 2 2 2 2 2 2 2 2 2 2 2 2 2 2 2 2 2 2 2 2 2 2 2 2 2 2 2 2 2 2 2 2\n",
      " 2 2 2]\n",
      "truth : [1 2 2 2 0 1 2 2 0 2 0 1 2 0 2 1 2 0 0 0 2 1 1 2 2 2 0 2 1 0 2 2 2 2 0 2 2\n",
      " 2 2 2]\n",
      "2/2 [==============================] - 0s 5ms/step - loss: 1.0397 - acc: 0.5750\n",
      "test index : 2\n",
      "recall : 0.575; precisicion : 0.575\n",
      "predicted : [2 2 2 2 2 2 2 2 2 2 2 2 2 2 2 2 2 2 2 2 2 2 2 2 2 2 2 2 2 2 2 2 2 2 2 2 2\n",
      " 2 2 2]\n",
      "truth : [1 2 2 2 0 1 2 2 0 2 0 1 2 0 2 1 2 0 0 0 2 1 1 2 2 2 0 2 1 0 2 2 2 2 0 2 2\n",
      " 2 2 2]\n",
      "2/2 [==============================] - 0s 5ms/step - loss: 1.0429 - acc: 0.5750\n",
      "test index : 2\n",
      "recall : 0.575; precisicion : 0.575\n",
      "predicted : [2 2 2 2 2 2 2 2 2 2 2 2 2 2 2 2 2 2 2 2 2 2 2 2 2 2 2 2 2 2 2 2 2 2 2 2 2\n",
      " 2 2 2]\n",
      "truth : [1 2 2 2 0 1 2 2 0 2 0 1 2 0 2 1 2 0 0 0 2 1 1 2 2 2 0 2 1 0 2 2 2 2 0 2 2\n",
      " 2 2 2]\n"
     ]
    }
   ],
   "source": [
    "# test the models\n",
    "x_TESTS = [x_short, x_medium, x_long]\n",
    "y_TESTS = [y_short, y_medium, y_long]\n",
    "\n",
    "for ind, x_test_divided in enumerate(x_TESTS):\n",
    "    x_test_divided = np.array(x_test_divided)\n",
    "    y_test_divided = np.array(y_TESTS[ind])\n",
    "    for model_name, model in MODELS.items():\n",
    "        # obtain metrics\n",
    "        accuracy = model.evaluate(x_test_divided, y_test_divided, return_dict=True)['acc']\n",
    "        predictions = np.argmax(model.predict(x_test_divided), axis=1)\n",
    "        recall = recall_score(predictions, y_test_divided, average='micro')\n",
    "        precision = precision_score(predictions, y_test_divided, average='micro')\n",
    "\n",
    "        print(f\"test index : {ind}\")\n",
    "        print(f\"recall : {recall}; precisicion : {precision}\")\n",
    "        print(f\"predicted : {predictions}\")\n",
    "        print(f\"truth : {y_test_divided}\")"
   ]
  },
  {
   "cell_type": "markdown",
   "metadata": {},
   "source": [
    "# EMBEDDINGS\n",
    "The following section is focused on creating embeddings for the vectors."
   ]
  },
  {
   "cell_type": "code",
   "execution_count": 17,
   "metadata": {},
   "outputs": [],
   "source": [
    "# following were used to download the word embeddings for GLOVE \n",
    "\n",
    "# !wget http://nlp.stanford.edu/data/glove.6B.zip\n",
    "# !unzip -q glove.6B.zip"
   ]
  },
  {
   "cell_type": "code",
   "execution_count": 18,
   "metadata": {},
   "outputs": [
    {
     "name": "stdout",
     "output_type": "stream",
     "text": [
      "Found 400000 word vectors.\n"
     ]
    }
   ],
   "source": [
    "## Read the embeddings in the pretrained model (we are using the 100D version of GloVe)\n",
    "#####\n",
    "# COPIED FROM LECTURE\n",
    "####\n",
    "import os\n",
    "path_to_glove_file = \"glove.6B.100d.txt\"\n",
    "\n",
    "embeddings_index = {}\n",
    "with open(path_to_glove_file) as f:\n",
    "    for line in f:\n",
    "        word, coefs = line.split(maxsplit=1)\n",
    "        coefs = np.fromstring(coefs, \"f\", sep=\" \")\n",
    "        embeddings_index[word] = coefs\n",
    "\n",
    "print(\"Found %s word vectors.\" % len(embeddings_index))"
   ]
  },
  {
   "cell_type": "code",
   "execution_count": 19,
   "metadata": {},
   "outputs": [
    {
     "name": "stdout",
     "output_type": "stream",
     "text": [
      "Converted 2101 words (222 misses)\n"
     ]
    }
   ],
   "source": [
    "## Create \"embedding_matrix\" to index our vocabulary using the GloVe model\n",
    "#####\n",
    "# COPIED FROM LECTURE\n",
    "####\n",
    "num_tokens = len(voc) \n",
    "embedding_dim = 100 ## 100 dimensions\n",
    "hits = 0 ## number of words that were found in the pretrained model\n",
    "misses = 0 ## number of words that were missing in the pretrained model\n",
    "\n",
    "# Prepare embedding matrix for our word list\n",
    "embedding_matrix_glove = np.zeros((num_tokens, embedding_dim))\n",
    "for word, i in word_index.items():\n",
    "    embedding_vector = embeddings_index.get(word)\n",
    "    if embedding_vector is not None:\n",
    "        # Words not found in embedding index will be all-zeros.\n",
    "        # This includes the representation for \"padding\" and \"OOV\"\n",
    "        embedding_matrix_glove[i] = embedding_vector\n",
    "        hits += 1\n",
    "    else:\n",
    "        misses += 1\n",
    "print(\"Converted %d words (%d misses)\" % (hits, misses))"
   ]
  },
  {
   "cell_type": "code",
   "execution_count": 20,
   "metadata": {},
   "outputs": [],
   "source": [
    "# open the model\n",
    "glove_input_file = 'glove.6B.100d.txt'\n",
    "word2vec_output_file = 'glove.6B.100d.txt.word2vec'\n",
    "# glove2word2vec(glove_input_file, word2vec_output_file)\n",
    "embeddings_index = KeyedVectors.load_word2vec_format(word2vec_output_file, binary=False)"
   ]
  },
  {
   "cell_type": "code",
   "execution_count": 21,
   "metadata": {},
   "outputs": [
    {
     "name": "stdout",
     "output_type": "stream",
     "text": [
      "Converted 2101 words (222 misses)\n"
     ]
    }
   ],
   "source": [
    "## Create \"embedding_matrix\" to index our vocabulary using the word2vec model\n",
    "#####\n",
    "# COPIED FROM LECTURE\n",
    "####\n",
    "num_tokens = len(voc) \n",
    "embedding_dim = 100 ## 100 dimensions\n",
    "hits = 0 ## number of words that were found in the pretrained model\n",
    "misses = 0 ## number of words that were missing in the pretrained model\n",
    "\n",
    "# Prepare embedding matrix for our word list\n",
    "embedding_matrix_w2v = np.zeros((num_tokens, embedding_dim))\n",
    "for word, i in word_index.items():\n",
    "    if word in embeddings_index:\n",
    "        embedding_vector = embeddings_index[word]\n",
    "    else:\n",
    "        embedding_vector = None\n",
    "    if embedding_vector is not None:\n",
    "        # Words not found in embedding index will be all-zeros.\n",
    "        # This includes the representation for \"padding\" and \"OOV\"\n",
    "        embedding_matrix_w2v[i] = embedding_vector\n",
    "        hits += 1\n",
    "    else:\n",
    "        misses += 1\n",
    "print(\"Converted %d words (%d misses)\" % (hits, misses))"
   ]
  },
  {
   "cell_type": "markdown",
   "metadata": {},
   "source": [
    "# MODEL CREATION - with Embeddings\n",
    "This section outline creating models.\n",
    "\n",
    "The following models are:\n",
    "\n",
    "    1. LSTM\n",
    "    2. Bidirectional LSTM (for FUN!)\n",
    "\n",
    "With the following embeddings:\n",
    "\n",
    "    1. GloVe\n",
    "    2. word2vec"
   ]
  },
  {
   "cell_type": "code",
   "execution_count": 22,
   "metadata": {},
   "outputs": [],
   "source": [
    "#####\n",
    "# Glove embedded Layer\n",
    "#####\n",
    "glove_embedding_layer = Embedding(num_tokens, embedding_dim,\n",
    "                                  embeddings_initializer= Constant(embedding_matrix_glove), \n",
    "                                  trainable=False)\n",
    "#####\n",
    "# word2vec embedded Layer\n",
    "#####\n",
    "w2v_embedding_layer = Embedding(num_tokens, embedding_dim,\n",
    "                                  embeddings_initializer= Constant(embedding_matrix_w2v), \n",
    "                                  trainable=False)"
   ]
  },
  {
   "cell_type": "code",
   "execution_count": 23,
   "metadata": {},
   "outputs": [
    {
     "name": "stdout",
     "output_type": "stream",
     "text": [
      "Model: \"model\"\n",
      "_________________________________________________________________\n",
      " Layer (type)                Output Shape              Param #   \n",
      "=================================================================\n",
      " input_1 (InputLayer)        [(None, None)]            0         \n",
      "                                                                 \n",
      " embedding (Embedding)       (None, None, 100)         232300    \n",
      "                                                                 \n",
      " lstm_1 (LSTM)               (None, 20)                9680      \n",
      "                                                                 \n",
      " dense_6 (Dense)             (None, 4)                 84        \n",
      "                                                                 \n",
      "=================================================================\n",
      "Total params: 242,064\n",
      "Trainable params: 9,764\n",
      "Non-trainable params: 232,300\n",
      "_________________________________________________________________\n",
      "Model: \"model_1\"\n",
      "_________________________________________________________________\n",
      " Layer (type)                Output Shape              Param #   \n",
      "=================================================================\n",
      " input_2 (InputLayer)        [(None, None)]            0         \n",
      "                                                                 \n",
      " embedding_1 (Embedding)     (None, None, 100)         232300    \n",
      "                                                                 \n",
      " lstm_2 (LSTM)               (None, 20)                9680      \n",
      "                                                                 \n",
      " dense_7 (Dense)             (None, 4)                 84        \n",
      "                                                                 \n",
      "=================================================================\n",
      "Total params: 242,064\n",
      "Trainable params: 9,764\n",
      "Non-trainable params: 232,300\n",
      "_________________________________________________________________\n",
      "Model: \"model_2\"\n",
      "_________________________________________________________________\n",
      " Layer (type)                Output Shape              Param #   \n",
      "=================================================================\n",
      " input_3 (InputLayer)        [(None, None)]            0         \n",
      "                                                                 \n",
      " embedding (Embedding)       (None, None, 100)         232300    \n",
      "                                                                 \n",
      " bidirectional (Bidirectiona  (None, None, 40)         19360     \n",
      " l)                                                              \n",
      "                                                                 \n",
      " bidirectional_1 (Bidirectio  (None, 40)               9760      \n",
      " nal)                                                            \n",
      "                                                                 \n",
      " dense_8 (Dense)             (None, 4)                 164       \n",
      "                                                                 \n",
      "=================================================================\n",
      "Total params: 261,584\n",
      "Trainable params: 29,284\n",
      "Non-trainable params: 232,300\n",
      "_________________________________________________________________\n",
      "Model: \"model_3\"\n",
      "_________________________________________________________________\n",
      " Layer (type)                Output Shape              Param #   \n",
      "=================================================================\n",
      " input_4 (InputLayer)        [(None, None)]            0         \n",
      "                                                                 \n",
      " embedding_1 (Embedding)     (None, None, 100)         232300    \n",
      "                                                                 \n",
      " bidirectional_2 (Bidirectio  (None, None, 40)         19360     \n",
      " nal)                                                            \n",
      "                                                                 \n",
      " bidirectional_3 (Bidirectio  (None, 40)               9760      \n",
      " nal)                                                            \n",
      "                                                                 \n",
      " dense_9 (Dense)             (None, 4)                 164       \n",
      "                                                                 \n",
      "=================================================================\n",
      "Total params: 261,584\n",
      "Trainable params: 29,284\n",
      "Non-trainable params: 232,300\n",
      "_________________________________________________________________\n"
     ]
    }
   ],
   "source": [
    "######\n",
    "# Simple LSTM - with GloVe\n",
    "######\n",
    "int_sequences_input = Input(shape=(None,), dtype=\"int64\")\n",
    "embedded_sequences = glove_embedding_layer(int_sequences_input)\n",
    "x = layers.LSTM(20)(embedded_sequences)\n",
    "preds = layers.Dense(len(set(train_labels)), activation=\"softmax\")(x)\n",
    "model_lstm_glove = Model(int_sequences_input, preds)\n",
    "model_lstm_glove.summary()\n",
    "######\n",
    "# Simple LSTM - with word2vec\n",
    "######\n",
    "int_sequences_input = Input(shape=(None,), dtype=\"int64\")\n",
    "embedded_sequences = w2v_embedding_layer(int_sequences_input)\n",
    "x = layers.LSTM(20)(embedded_sequences)\n",
    "preds = layers.Dense(len(set(train_labels)), activation=\"softmax\")(x)\n",
    "model_lstm_w2v = Model(int_sequences_input, preds)\n",
    "model_lstm_w2v.summary()\n",
    "\n",
    "######\n",
    "# Bidirectional LSTM - with GloVe\n",
    "######\n",
    "int_sequences_input = Input(shape=(None,), dtype=\"int64\")\n",
    "embedded_sequences = glove_embedding_layer(int_sequences_input)\n",
    "x = layers.Bidirectional(layers.LSTM(20, return_sequences=True))(embedded_sequences)\n",
    "x = layers.Bidirectional(layers.LSTM(20))(x)\n",
    "preds = layers.Dense(len(set(train_labels)), activation=\"softmax\")(x)\n",
    "model_lstm_glove = Model(int_sequences_input, preds)\n",
    "model_lstm_glove.summary()\n",
    "######\n",
    "# Bidirectional LSTM - with word2vec\n",
    "######\n",
    "int_sequences_input = Input(shape=(None,), dtype=\"int64\")\n",
    "embedded_sequences = w2v_embedding_layer(int_sequences_input)\n",
    "x = layers.Bidirectional(layers.LSTM(20, return_sequences=True))(embedded_sequences)\n",
    "x = layers.Bidirectional(layers.LSTM(20))(x)\n",
    "preds = layers.Dense(len(set(train_labels)), activation=\"softmax\")(x)\n",
    "model_lstm_w2v = Model(int_sequences_input, preds)\n",
    "model_lstm_w2v.summary()"
   ]
  },
  {
   "cell_type": "code",
   "execution_count": 24,
   "metadata": {},
   "outputs": [
    {
     "name": "stdout",
     "output_type": "stream",
     "text": [
      "Epoch 1/10\n",
      "7/7 [==============================] - 6s 276ms/step - loss: 1.3195 - acc: 0.4473 - val_loss: 1.1834 - val_acc: 0.6571\n",
      "Epoch 2/10\n",
      "7/7 [==============================] - 1s 91ms/step - loss: 1.1353 - acc: 0.6222 - val_loss: 1.0222 - val_acc: 0.6571\n",
      "Epoch 3/10\n",
      "7/7 [==============================] - 1s 88ms/step - loss: 1.0644 - acc: 0.6222 - val_loss: 0.9648 - val_acc: 0.6571\n",
      "Epoch 4/10\n",
      "7/7 [==============================] - 1s 89ms/step - loss: 1.0469 - acc: 0.6222 - val_loss: 0.9408 - val_acc: 0.6571\n",
      "Epoch 5/10\n",
      "7/7 [==============================] - 1s 88ms/step - loss: 1.0315 - acc: 0.6222 - val_loss: 0.9363 - val_acc: 0.6571\n",
      "Epoch 6/10\n",
      "7/7 [==============================] - 1s 87ms/step - loss: 1.0254 - acc: 0.6222 - val_loss: 0.9245 - val_acc: 0.6571\n",
      "Epoch 7/10\n",
      "7/7 [==============================] - 1s 85ms/step - loss: 1.0131 - acc: 0.6222 - val_loss: 0.9158 - val_acc: 0.6571\n",
      "Epoch 8/10\n",
      "7/7 [==============================] - 1s 86ms/step - loss: 0.9971 - acc: 0.6222 - val_loss: 0.9104 - val_acc: 0.6571\n",
      "Epoch 9/10\n",
      "7/7 [==============================] - 1s 88ms/step - loss: 0.9748 - acc: 0.6222 - val_loss: 0.8908 - val_acc: 0.6571\n",
      "Epoch 10/10\n",
      "7/7 [==============================] - 1s 86ms/step - loss: 0.9443 - acc: 0.6222 - val_loss: 0.8668 - val_acc: 0.6571\n",
      "Epoch 1/10\n",
      "7/7 [==============================] - 6s 266ms/step - loss: 1.2795 - acc: 0.5213 - val_loss: 1.1472 - val_acc: 0.6571\n",
      "Epoch 2/10\n",
      "7/7 [==============================] - 1s 86ms/step - loss: 1.1251 - acc: 0.6222 - val_loss: 1.0003 - val_acc: 0.6571\n",
      "Epoch 3/10\n",
      "7/7 [==============================] - 1s 86ms/step - loss: 1.0556 - acc: 0.6222 - val_loss: 0.9492 - val_acc: 0.6571\n",
      "Epoch 4/10\n",
      "7/7 [==============================] - 1s 87ms/step - loss: 1.0420 - acc: 0.6222 - val_loss: 0.9289 - val_acc: 0.6571\n",
      "Epoch 5/10\n",
      "7/7 [==============================] - 1s 85ms/step - loss: 1.0297 - acc: 0.6222 - val_loss: 0.9189 - val_acc: 0.6571\n",
      "Epoch 6/10\n",
      "7/7 [==============================] - 1s 88ms/step - loss: 1.0180 - acc: 0.6222 - val_loss: 0.9134 - val_acc: 0.6571\n",
      "Epoch 7/10\n",
      "7/7 [==============================] - 1s 88ms/step - loss: 1.0047 - acc: 0.6222 - val_loss: 0.9109 - val_acc: 0.6571\n",
      "Epoch 8/10\n",
      "7/7 [==============================] - 1s 90ms/step - loss: 0.9878 - acc: 0.6222 - val_loss: 0.9036 - val_acc: 0.6571\n",
      "Epoch 9/10\n",
      "7/7 [==============================] - 1s 90ms/step - loss: 0.9664 - acc: 0.6222 - val_loss: 0.8891 - val_acc: 0.6571\n",
      "Epoch 10/10\n",
      "7/7 [==============================] - 1s 89ms/step - loss: 0.9365 - acc: 0.6222 - val_loss: 0.8671 - val_acc: 0.6571\n",
      "Epoch 1/10\n",
      "7/7 [==============================] - 6s 272ms/step - loss: 0.9087 - acc: 0.6334 - val_loss: 0.8395 - val_acc: 0.6571\n",
      "Epoch 2/10\n",
      "7/7 [==============================] - 1s 88ms/step - loss: 0.8693 - acc: 0.6603 - val_loss: 0.8107 - val_acc: 0.6667\n",
      "Epoch 3/10\n",
      "7/7 [==============================] - 1s 89ms/step - loss: 0.8318 - acc: 0.6715 - val_loss: 0.7815 - val_acc: 0.6857\n",
      "Epoch 4/10\n",
      "7/7 [==============================] - 1s 88ms/step - loss: 0.7963 - acc: 0.6917 - val_loss: 0.7577 - val_acc: 0.7143\n",
      "Epoch 5/10\n",
      "7/7 [==============================] - 1s 87ms/step - loss: 0.7638 - acc: 0.7096 - val_loss: 0.7357 - val_acc: 0.7048\n",
      "Epoch 6/10\n",
      "7/7 [==============================] - 1s 88ms/step - loss: 0.7392 - acc: 0.7231 - val_loss: 0.7464 - val_acc: 0.7048\n",
      "Epoch 7/10\n",
      "7/7 [==============================] - 1s 88ms/step - loss: 0.6985 - acc: 0.7388 - val_loss: 0.7219 - val_acc: 0.7048\n",
      "Epoch 8/10\n",
      "7/7 [==============================] - 1s 90ms/step - loss: 0.6715 - acc: 0.7444 - val_loss: 0.7353 - val_acc: 0.7143\n",
      "Epoch 9/10\n",
      "7/7 [==============================] - 1s 89ms/step - loss: 0.6439 - acc: 0.7500 - val_loss: 0.7175 - val_acc: 0.7238\n",
      "Epoch 10/10\n",
      "7/7 [==============================] - 1s 89ms/step - loss: 0.6171 - acc: 0.7657 - val_loss: 0.7425 - val_acc: 0.7333\n",
      "Epoch 1/10\n",
      "7/7 [==============================] - 6s 281ms/step - loss: 0.9091 - acc: 0.6345 - val_loss: 0.8591 - val_acc: 0.6571\n",
      "Epoch 2/10\n",
      "7/7 [==============================] - 1s 94ms/step - loss: 0.8784 - acc: 0.6379 - val_loss: 0.8334 - val_acc: 0.6667\n",
      "Epoch 3/10\n",
      "7/7 [==============================] - 1s 92ms/step - loss: 0.8455 - acc: 0.6872 - val_loss: 0.8191 - val_acc: 0.6762\n",
      "Epoch 4/10\n",
      "7/7 [==============================] - 1s 90ms/step - loss: 0.8177 - acc: 0.6760 - val_loss: 0.8193 - val_acc: 0.6762\n",
      "Epoch 5/10\n",
      "7/7 [==============================] - 1s 90ms/step - loss: 0.7818 - acc: 0.7108 - val_loss: 0.7899 - val_acc: 0.6762\n",
      "Epoch 6/10\n",
      "7/7 [==============================] - 1s 91ms/step - loss: 0.7537 - acc: 0.7276 - val_loss: 0.8043 - val_acc: 0.6762\n",
      "Epoch 7/10\n",
      "7/7 [==============================] - 1s 91ms/step - loss: 0.7259 - acc: 0.7433 - val_loss: 0.7975 - val_acc: 0.6667\n",
      "Epoch 8/10\n",
      "7/7 [==============================] - 1s 91ms/step - loss: 0.6984 - acc: 0.7556 - val_loss: 0.8015 - val_acc: 0.6762\n",
      "Epoch 9/10\n",
      "7/7 [==============================] - 1s 91ms/step - loss: 0.6728 - acc: 0.7601 - val_loss: 0.7637 - val_acc: 0.6952\n",
      "Epoch 10/10\n",
      "7/7 [==============================] - 1s 90ms/step - loss: 0.6524 - acc: 0.7758 - val_loss: 0.8284 - val_acc: 0.6762\n"
     ]
    }
   ],
   "source": [
    "emb_MODELS = {\"LSTM (glove)\" : model_lstm_glove,\n",
    "          \"LSTM (word2vec)\" : model_lstm_w2v,\n",
    "          \"Bi-LSTM (glove)\" : model_lstm_glove,\n",
    "          \"Bi-LSTM (word2vec)\" : model_lstm_w2v,\n",
    "         }\n",
    "for model_name, model in emb_MODELS.items():\n",
    "    ## Train the model \n",
    "    model.compile(loss=\"sparse_categorical_crossentropy\", optimizer=\"adam\", metrics=[\"acc\"])\n",
    "    model.fit(x_train, y_train, batch_size=128, epochs=10, validation_data=(x_val, y_val))"
   ]
  },
  {
   "cell_type": "code",
   "execution_count": 25,
   "metadata": {},
   "outputs": [
    {
     "name": "stdout",
     "output_type": "stream",
     "text": [
      "4/4 [==============================] - 0s 11ms/step - loss: 1.0564 - acc: 0.6827\n",
      "recall : 0.6826923076923077; precisicion : 0.6826923076923077\n"
     ]
    },
    {
     "data": {
      "image/png": "[encoded data removed]",
      "text/plain": [
       "<Figure size 432x288 with 1 Axes>"
      ]
     },
     "metadata": {
      "needs_background": "light"
     },
     "output_type": "display_data"
    },
    {
     "name": "stdout",
     "output_type": "stream",
     "text": [
      "4/4 [==============================] - 0s 11ms/step - loss: 0.9826 - acc: 0.6923\n",
      "recall : 0.6923076923076923; precisicion : 0.6923076923076923\n"
     ]
    },
    {
     "data": {
      "image/png": "[encoded data removed]",
      "text/plain": [
       "<Figure size 432x288 with 1 Axes>"
      ]
     },
     "metadata": {
      "needs_background": "light"
     },
     "output_type": "display_data"
    },
    {
     "name": "stdout",
     "output_type": "stream",
     "text": [
      "4/4 [==============================] - 0s 12ms/step - loss: 1.0564 - acc: 0.6827\n",
      "recall : 0.6826923076923077; precisicion : 0.6826923076923077\n"
     ]
    },
    {
     "data": {
      "image/png": "[encoded data removed]",
      "text/plain": [
       "<Figure size 432x288 with 1 Axes>"
      ]
     },
     "metadata": {
      "needs_background": "light"
     },
     "output_type": "display_data"
    },
    {
     "name": "stdout",
     "output_type": "stream",
     "text": [
      "4/4 [==============================] - 0s 11ms/step - loss: 0.9826 - acc: 0.6923\n",
      "recall : 0.6923076923076923; precisicion : 0.6923076923076923\n"
     ]
    },
    {
     "data": {
      "image/png": "[encoded data removed]",
      "text/plain": [
       "<Figure size 432x288 with 1 Axes>"
      ]
     },
     "metadata": {
      "needs_background": "light"
     },
     "output_type": "display_data"
    }
   ],
   "source": [
    "## Train the model \n",
    "for model_name, model in emb_MODELS.items():\n",
    "    # obtain metrics\n",
    "    accuracy = model.evaluate(x_test, y_test, return_dict=True)['acc']\n",
    "    predictions = np.argmax(model.predict(x_test), axis=1)\n",
    "    recall = recall_score(predictions, y_test, average='micro')\n",
    "    precision = precision_score(predictions, y_test, average='micro')\n",
    "    conf_matrix = confusion_matrix(predictions, y_test)\n",
    "    print(f\"recall : {recall}; precisicion : {precision}\")\n",
    "    plt.imshow(conf_matrix)\n",
    "    labels = index2meaning.keys()\n",
    "    plt.title(f\"Confusion Matrix for {model_name}\")\n",
    "    plt.yticks(range(len(labels)), labels)\n",
    "    plt.xticks(range(len(labels)), labels)\n",
    "    plt.ylabel(\"TRUE\")\n",
    "    plt.xlabel(\"PREDICTED\")\n",
    "    plt.show()"
   ]
  },
  {
   "cell_type": "code",
   "execution_count": null,
   "metadata": {},
   "outputs": [],
   "source": []
  },
  {
   "cell_type": "code",
   "execution_count": null,
   "metadata": {},
   "outputs": [],
   "source": []
  },
  {
   "cell_type": "code",
   "execution_count": null,
   "metadata": {},
   "outputs": [],
   "source": []
  }
 ],
 "metadata": {
  "kernelspec": {
   "display_name": "Python 3",
   "language": "python",
   "name": "python3"
  },
  "language_info": {
   "codemirror_mode": {
    "name": "ipython",
    "version": 3
   },
   "file_extension": ".py",
   "mimetype": "text/x-python",
   "name": "python",
   "nbconvert_exporter": "python",
   "pygments_lexer": "ipython3",
   "version": "3.7.9"
  }
 },
 "nbformat": 4,
 "nbformat_minor": 4
}
