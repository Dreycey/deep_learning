{
 "cells": [
  {
   "cell_type": "markdown",
   "metadata": {},
   "source": [
    "# Recurrent Neural Networks (RNNs)\n",
    "\n",
    "This notebook contains examples of using RNNs for classification and regression."
   ]
  },
  {
   "cell_type": "code",
   "execution_count": 1,
   "metadata": {},
   "outputs": [],
   "source": [
    "from datasets import list_datasets, load_dataset"
   ]
  },
  {
   "cell_type": "code",
   "execution_count": 2,
   "metadata": {},
   "outputs": [],
   "source": [
    "import nlp\n",
    "import numpy as np\n",
    "import tensorflow as tf\n",
    "from tensorflow.keras.layers.experimental.preprocessing import TextVectorization\n",
    "from tensorflow.keras.utils import to_categorical\n",
    "from tensorflow.keras import layers, Input, Model\n",
    "\n",
    "# Keras imports\n",
    "from tensorflow.keras.layers import Embedding\n",
    "from tensorflow.keras.initializers import Constant\n",
    "from tensorflow.keras.models import Sequential\n",
    "from tensorflow.keras.layers import Dense, Dropout, LSTM, Bidirectional, SimpleRNN, GRU\n",
    "from tensorflow.keras.callbacks import ModelCheckpoint\n",
    "\n",
    "# metrics\n",
    "from sklearn.metrics import recall_score\n",
    "from sklearn.metrics import precision_score\n",
    "from sklearn.metrics import confusion_matrix\n",
    "\n",
    "# word2vec\n",
    "from gensim.scripts.glove2word2vec import glove2word2vec\n",
    "from gensim.models import KeyedVectors"
   ]
  },
  {
   "cell_type": "code",
   "execution_count": 3,
   "metadata": {},
   "outputs": [
    {
     "data": {
      "text/plain": [
       "'2.8.0'"
      ]
     },
     "execution_count": 3,
     "metadata": {},
     "output_type": "execute_result"
    }
   ],
   "source": [
    "# versions of libraries - noticed problems with Text vecotrization in lower versions\n",
    "tf.__version__"
   ]
  },
  {
   "cell_type": "markdown",
   "metadata": {},
   "source": [
    "## Loading Dataset\n",
    "\n",
    "Here I am using a poem sentiment dataset under the category of sentiment-classification on huggingface. "
   ]
  },
  {
   "cell_type": "code",
   "execution_count": 4,
   "metadata": {},
   "outputs": [
    {
     "name": "stderr",
     "output_type": "stream",
     "text": [
      "Using custom data configuration default\n",
      "Reusing dataset poem_sentiment (/Users/dreyceyalbin/.cache/huggingface/datasets/poem_sentiment/default/1.0.0/4e44428256d42cdde0be6b3db1baa587195e91847adabf976e4f9454f6a82099)\n"
     ]
    },
    {
     "data": {
      "application/vnd.jupyter.widget-view+json": {
       "model_id": "5730de7b3afe4b88bc28cf0216043621",
       "version_major": 2,
       "version_minor": 0
      },
      "text/plain": [
       "  0%|          | 0/3 [00:00<?, ?it/s]"
      ]
     },
     "metadata": {},
     "output_type": "display_data"
    }
   ],
   "source": [
    "# load dataset (X-tweets; Y-emotion)\n",
    "\n",
    "#####\n",
    "# DATA - https://huggingface.co/datasets/poem_sentiment\n",
    "#####\n",
    "dataset = load_dataset(\"poem_sentiment\")\n",
    "\n",
    "#dataset = load_dataset(\"emotion\")\n",
    "\n",
    "# load different datasets\n",
    "train = dataset['train']\n",
    "test = dataset['test']\n",
    "val = dataset['validation']"
   ]
  },
  {
   "cell_type": "code",
   "execution_count": 50,
   "metadata": {},
   "outputs": [
    {
     "name": "stdout",
     "output_type": "stream",
     "text": [
      "count of 0 label in data set is 155\n",
      "count of 1 label in data set is 133\n",
      "count of 2 label in data set is 555\n",
      "count of 3 label in data set is 49\n"
     ]
    }
   ],
   "source": [
    "###\n",
    "# Data preperation\n",
    "###\n",
    "index2meaning = {0 : \"negative\",\n",
    "                 1 : \"positive\",\n",
    "                 2 : \"no_impact\",\n",
    "                 3 : \"mixed\"}\n",
    "## training data\n",
    "train_samples = [x['verse_text'] for x in train]\n",
    "train_labels = np.array([x['label'] for x in train]) # already numerical\n",
    "## validation data\n",
    "val_samples = [x['verse_text'] for x in val]\n",
    "val_labels = np.array([x['label'] for x in val]) # already numerical\n",
    "## test data\n",
    "test_samples = [x['verse_text'] for x in test]\n",
    "test_labels = np.array([x['label'] for x in test]) # already numerical\n",
    "\n",
    "# obtain class balance data\n",
    "print(f\"count of 0 label in data set is {sum(train_labels == 0)}\")\n",
    "print(f\"count of 1 label in data set is {sum(train_labels == 1)}\")\n",
    "print(f\"count of 2 label in data set is {sum(train_labels == 2)}\")\n",
    "print(f\"count of 3 label in data set is {sum(train_labels == 3)}\")\n",
    "\n",
    "\n",
    "# # clean dataset\n",
    "# train_samples_cleaned = []\n",
    "# train_labels_cleaned = []\n",
    "# count_dict = {0 : 0, 1:0, 2:0, 3:0}\n",
    "# for index, value in enumerate(train_labels):\n",
    "#     value = int(value)\n",
    "#     if count_dict[value] <= 155:\n",
    "#         train_samples_cleaned.append(train_samples[index])\n",
    "#         train_labels_cleaned.append(train_labels[index])\n",
    "#     count_dict[value] += 1\n",
    "    \n",
    "# # clean original values\n",
    "# train_samples = np.array(train_samples_cleaned.copy())\n",
    "# train_labels = np.array(train_labels_cleaned.copy())\n",
    "\n",
    "# # obtain class balance data\n",
    "# print(f\"count of 0 label in data set is {sum(train_labels == 0)}\")\n",
    "# print(f\"count of 1 label in data set is {sum(train_labels == 1)}\")\n",
    "# print(f\"count of 2 label in data set is {sum(train_labels == 2)}\")\n",
    "# print(f\"count of 3 label in data set is {sum(train_labels == 3)}\")\n",
    "\n",
    "# print(train_samples_cleaned)\n",
    "# print(train_labels_cleaned)"
   ]
  },
  {
   "cell_type": "code",
   "execution_count": 51,
   "metadata": {},
   "outputs": [
    {
     "data": {
      "text/plain": [
       "892"
      ]
     },
     "execution_count": 51,
     "metadata": {},
     "output_type": "execute_result"
    }
   ],
   "source": [
    "len(train_labels)"
   ]
  },
  {
   "cell_type": "code",
   "execution_count": 28,
   "metadata": {},
   "outputs": [],
   "source": [
    "# Create vectorizer to tokenize sentences.\n",
    "\n",
    "# parameters\n",
    "EMBEDDED_VEC_LENGTH = 100\n",
    "MAX_VOCABULARY = 10000\n",
    "# vectorize\n",
    "vectorizer = TextVectorization(max_tokens=MAX_VOCABULARY, \n",
    "                               output_sequence_length=EMBEDDED_VEC_LENGTH, \n",
    "                               output_mode='int')\n",
    "text_ds = tf.data.Dataset.from_tensor_slices(train_samples).batch(128) ## Read batches of 128 samples\n",
    "vectorizer.adapt(text_ds)"
   ]
  },
  {
   "cell_type": "code",
   "execution_count": 29,
   "metadata": {},
   "outputs": [
    {
     "name": "stdout",
     "output_type": "stream",
     "text": [
      "1505\n"
     ]
    }
   ],
   "source": [
    "## Print out top five words in the vocab\n",
    "print(len(vectorizer.get_vocabulary())) ## We set max_tokens=10000\n",
    "vectorizer.get_vocabulary()[:5]\n",
    "## Text an example of what a string looks like after vectorization\n",
    "output = vectorizer([[\"I feel good today again\"]])"
   ]
  },
  {
   "cell_type": "code",
   "execution_count": 30,
   "metadata": {},
   "outputs": [],
   "source": [
    "## Create a map to get the unique list of the vocabulary\n",
    "#####\n",
    "# COPIED FROM LECTURE\n",
    "####\n",
    "voc = vectorizer.get_vocabulary()\n",
    "word_index = dict(zip(voc, range(len(voc))))"
   ]
  },
  {
   "cell_type": "code",
   "execution_count": 31,
   "metadata": {},
   "outputs": [
    {
     "name": "stdout",
     "output_type": "stream",
     "text": [
      "[[   9  863 1409 ...    0    0    0]\n",
      " [  14 1173   28 ...    0    0    0]\n",
      " [   3   10   19 ...    0    0    0]\n",
      " ...\n",
      " [   2  298  342 ...    0    0    0]\n",
      " [ 209  490  989 ...    0    0    0]\n",
      " [   6    2  148 ...    0    0    0]]\n"
     ]
    }
   ],
   "source": [
    "## Vectorize our data (Convert the string data to integer data)\n",
    "\n",
    "# Feature vectors\n",
    "x_train = vectorizer(np.array([[s] for s in train_samples])).numpy()\n",
    "x_val = vectorizer(np.array([[s] for s in val_samples])).numpy()\n",
    "x_test = vectorizer(np.array([[s] for s in test_samples])).numpy()\n",
    "\n",
    "print(x_train)\n",
    "# Labels (not categorical!)\n",
    "CATEGORICAL = False\n",
    "if CATEGORICAL:\n",
    "    y_train = to_categorical(train_labels)\n",
    "    y_val = to_categorical(val_labels)\n",
    "    y_test = to_categorical(test_labels)\n",
    "else: \n",
    "    y_train = np.array(train_labels)\n",
    "    y_val = np.array(val_labels)\n",
    "    y_test = np.array(test_labels)"
   ]
  },
  {
   "cell_type": "code",
   "execution_count": 32,
   "metadata": {},
   "outputs": [],
   "source": [
    "# Make sure data has correct shape\n",
    "# reshape into [samples, timesteps, features]\n",
    "\n",
    "# x_train_no_emb = np.reshape(x_train, (len(x_train), EMBEDDED_VEC_LENGTH, 1)) / float(len(voc))\n",
    "# x_val_no_emb = np.reshape(x_val, (len(x_val), EMBEDDED_VEC_LENGTH, 1)) / float(len(voc))\n",
    "# x_test_no_emb = np.reshape(x_test, (len(x_test), EMBEDDED_VEC_LENGTH, 1)) / float(len(voc))\n",
    "\n",
    "\n",
    "x_train_no_emb = np.reshape(x_train, (len(x_train), EMBEDDED_VEC_LENGTH, 1))\n",
    "x_val_no_emb = np.reshape(x_val, (len(x_val), EMBEDDED_VEC_LENGTH, 1)) \n",
    "x_test_no_emb = np.reshape(x_test, (len(x_test), EMBEDDED_VEC_LENGTH, 1))"
   ]
  },
  {
   "cell_type": "code",
   "execution_count": 33,
   "metadata": {},
   "outputs": [
    {
     "data": {
      "text/plain": [
       "array([[[   9],\n",
       "        [ 863],\n",
       "        [1409],\n",
       "        ...,\n",
       "        [   0],\n",
       "        [   0],\n",
       "        [   0]],\n",
       "\n",
       "       [[  14],\n",
       "        [1173],\n",
       "        [  28],\n",
       "        ...,\n",
       "        [   0],\n",
       "        [   0],\n",
       "        [   0]],\n",
       "\n",
       "       [[   3],\n",
       "        [  10],\n",
       "        [  19],\n",
       "        ...,\n",
       "        [   0],\n",
       "        [   0],\n",
       "        [   0]],\n",
       "\n",
       "       ...,\n",
       "\n",
       "       [[   2],\n",
       "        [ 298],\n",
       "        [ 342],\n",
       "        ...,\n",
       "        [   0],\n",
       "        [   0],\n",
       "        [   0]],\n",
       "\n",
       "       [[ 209],\n",
       "        [ 490],\n",
       "        [ 989],\n",
       "        ...,\n",
       "        [   0],\n",
       "        [   0],\n",
       "        [   0]],\n",
       "\n",
       "       [[   6],\n",
       "        [   2],\n",
       "        [ 148],\n",
       "        ...,\n",
       "        [   0],\n",
       "        [   0],\n",
       "        [   0]]])"
      ]
     },
     "execution_count": 33,
     "metadata": {},
     "output_type": "execute_result"
    }
   ],
   "source": [
    "x_train_no_emb"
   ]
  },
  {
   "cell_type": "markdown",
   "metadata": {},
   "source": [
    "## Split Testing into short, medium, and long"
   ]
  },
  {
   "cell_type": "code",
   "execution_count": 34,
   "metadata": {},
   "outputs": [
    {
     "name": "stdout",
     "output_type": "stream",
     "text": [
      "short count = 40\n",
      "medium count = 24\n",
      "long count = 40\n",
      "[1, 2, 2, 2, 0, 1, 2, 2, 0, 2, 0, 1, 2, 0, 2, 1, 2, 0, 0, 0, 2, 1, 1, 2, 2, 2, 0, 2, 1, 0, 2, 2, 2, 2, 0, 2, 2, 2, 2, 2]\n"
     ]
    },
    {
     "data": {
      "image/png": "[encoded data removed]",
      "text/plain": [
       "<Figure size 432x288 with 1 Axes>"
      ]
     },
     "metadata": {
      "needs_background": "light"
     },
     "output_type": "display_data"
    }
   ],
   "source": [
    "import matplotlib.pyplot as plt\n",
    "\n",
    "# get number of non-zero entries\n",
    "num_emb_word_entries = np.count_nonzero(x_test, axis=1)\n",
    "\n",
    "# plot histogram to get cutoffs\n",
    "plt.title(\"Number of words\")\n",
    "plt.hist(num_emb_word_entries, color='orange', edgecolor='black')\n",
    "plt.ylabel(\"Number of Sentences with word count\")\n",
    "plt.ylabel(\"Number of words\")\n",
    "\n",
    "# split based on visual cutoffs\n",
    "short_max, medium_max = 6, 8\n",
    "x_short = []\n",
    "y_short = []\n",
    "x_medium = []\n",
    "y_medium = []\n",
    "x_long = []\n",
    "y_long = []\n",
    "\n",
    "for index, num_emb_words in enumerate(num_emb_word_entries):\n",
    "    current_word = x_test_no_emb[index]\n",
    "    current_sentiment = y_test[index]\n",
    "    if num_emb_words <= short_max:\n",
    "        x_short.append(current_word)\n",
    "        y_short.append(current_sentiment)\n",
    "    elif (num_emb_words > short_max) and (num_emb_words < medium_max):\n",
    "        x_medium.append(current_word)\n",
    "        y_medium.append(current_sentiment)\n",
    "    else:\n",
    "        x_long.append(current_word)\n",
    "        y_long.append(current_sentiment)\n",
    "        \n",
    "print(f\"short count = {len(x_short)}\")\n",
    "print(f\"medium count = {len(x_medium)}\")\n",
    "print(f\"long count = {len(x_long)}\")\n",
    "\n",
    "print(y_long)\n",
    "\n",
    "# x_short = np.reshape(x_short, (len(x_short), EMBEDDED_VEC_LENGTH, 1)) / len(voc)\n",
    "# x_medium = np.reshape(x_medium, (len(x_medium), EMBEDDED_VEC_LENGTH, 1)) / len(voc)\n",
    "# x_long = np.reshape(x_long, (len(x_long), EMBEDDED_VEC_LENGTH, 1)) / len(voc)"
   ]
  },
  {
   "cell_type": "markdown",
   "metadata": {},
   "source": [
    "# MODEL CREATION - No Embedding\n",
    "This section outline creating models.\n",
    "\n",
    "The following are created:\n",
    "\n",
    "    1. Simple RNN\n",
    "    2. LSTM\n",
    "    3. GRU"
   ]
  },
  {
   "cell_type": "code",
   "execution_count": 35,
   "metadata": {},
   "outputs": [
    {
     "name": "stdout",
     "output_type": "stream",
     "text": [
      "Model: \"sequential_3\"\n",
      "_________________________________________________________________\n",
      " Layer (type)                Output Shape              Param #   \n",
      "=================================================================\n",
      " simple_rnn_1 (SimpleRNN)    (None, 20)                440       \n",
      "                                                                 \n",
      " dropout_3 (Dropout)         (None, 20)                0         \n",
      "                                                                 \n",
      " dense_10 (Dense)            (None, 100)               2100      \n",
      "                                                                 \n",
      " dense_11 (Dense)            (None, 4)                 404       \n",
      "                                                                 \n",
      "=================================================================\n",
      "Total params: 2,944\n",
      "Trainable params: 2,944\n",
      "Non-trainable params: 0\n",
      "_________________________________________________________________\n",
      "Model: \"sequential_4\"\n",
      "_________________________________________________________________\n",
      " Layer (type)                Output Shape              Param #   \n",
      "=================================================================\n",
      " lstm_7 (LSTM)               (None, 20)                1760      \n",
      "                                                                 \n",
      " dropout_4 (Dropout)         (None, 20)                0         \n",
      "                                                                 \n",
      " dense_12 (Dense)            (None, 100)               2100      \n",
      "                                                                 \n",
      " dense_13 (Dense)            (None, 4)                 404       \n",
      "                                                                 \n",
      "=================================================================\n",
      "Total params: 4,264\n",
      "Trainable params: 4,264\n",
      "Non-trainable params: 0\n",
      "_________________________________________________________________\n",
      "Model: \"sequential_5\"\n",
      "_________________________________________________________________\n",
      " Layer (type)                Output Shape              Param #   \n",
      "=================================================================\n",
      " gru_1 (GRU)                 (None, 20)                1380      \n",
      "                                                                 \n",
      " dropout_5 (Dropout)         (None, 20)                0         \n",
      "                                                                 \n",
      " dense_14 (Dense)            (None, 100)               2100      \n",
      "                                                                 \n",
      " dense_15 (Dense)            (None, 4)                 404       \n",
      "                                                                 \n",
      "=================================================================\n",
      "Total params: 3,884\n",
      "Trainable params: 3,884\n",
      "Non-trainable params: 0\n",
      "_________________________________________________________________\n"
     ]
    }
   ],
   "source": [
    "######\n",
    "# Simple RNN\n",
    "######\n",
    "model_rnn = Sequential()\n",
    "model_rnn.add(SimpleRNN(20, input_shape=(x_train_no_emb.shape[1], x_train_no_emb.shape[2])))\n",
    "model_rnn.add(Dropout(0.2))\n",
    "model_rnn.add(Dense(100))\n",
    "model_rnn.add(Dense(len(set(train_labels)), activation='softmax'))\n",
    "model_rnn.summary()\n",
    "\n",
    "######\n",
    "# LSTM\n",
    "######\n",
    "model_lstm = Sequential()\n",
    "model_lstm.add(LSTM(20, input_shape=(x_train_no_emb.shape[1], x_train_no_emb.shape[2])))\n",
    "model_lstm.add(Dropout(0.2))\n",
    "model_lstm.add(Dense(100))\n",
    "model_lstm.add(Dense(len(set(train_labels)), activation='softmax'))\n",
    "model_lstm.summary()\n",
    "\n",
    "######\n",
    "# GRU\n",
    "######\n",
    "model_gru = Sequential()\n",
    "model_gru.add(GRU(20, input_shape=(x_train_no_emb.shape[1], x_train_no_emb.shape[2])))\n",
    "model_gru.add(Dropout(0.2))\n",
    "model_gru.add(Dense(100))\n",
    "model_gru.add(Dense(len(set(train_labels)), activation='softmax'))\n",
    "model_gru.summary()"
   ]
  },
  {
   "cell_type": "code",
   "execution_count": 36,
   "metadata": {},
   "outputs": [
    {
     "name": "stdout",
     "output_type": "stream",
     "text": [
      "Epoch 1/10\n",
      "5/5 [==============================] - 1s 11ms/step - loss: 1.3835 - acc: 0.2840\n",
      "Epoch 2/10\n",
      "5/5 [==============================] - 0s 12ms/step - loss: 1.3575 - acc: 0.3225\n",
      "Epoch 3/10\n",
      "5/5 [==============================] - 0s 13ms/step - loss: 1.3144 - acc: 0.3448\n",
      "Epoch 4/10\n",
      "5/5 [==============================] - 0s 13ms/step - loss: 1.2932 - acc: 0.3367\n",
      "Epoch 5/10\n",
      "5/5 [==============================] - 0s 12ms/step - loss: 1.2781 - acc: 0.3387\n",
      "Epoch 6/10\n",
      "5/5 [==============================] - 0s 14ms/step - loss: 1.2813 - acc: 0.3671\n",
      "Epoch 7/10\n",
      "5/5 [==============================] - 0s 14ms/step - loss: 1.2815 - acc: 0.3570\n",
      "Epoch 8/10\n",
      "5/5 [==============================] - 0s 11ms/step - loss: 1.2831 - acc: 0.3529\n",
      "Epoch 9/10\n",
      "5/5 [==============================] - 0s 12ms/step - loss: 1.2933 - acc: 0.3347\n",
      "Epoch 10/10\n",
      "5/5 [==============================] - 0s 11ms/step - loss: 1.2909 - acc: 0.3611\n",
      "Epoch 1/10\n",
      "5/5 [==============================] - 2s 25ms/step - loss: 1.3809 - acc: 0.3124\n",
      "Epoch 2/10\n",
      "5/5 [==============================] - 0s 24ms/step - loss: 1.3657 - acc: 0.3164\n",
      "Epoch 3/10\n",
      "5/5 [==============================] - 0s 25ms/step - loss: 1.3507 - acc: 0.3022\n",
      "Epoch 4/10\n",
      "5/5 [==============================] - 0s 26ms/step - loss: 1.3325 - acc: 0.3347\n",
      "Epoch 5/10\n",
      "5/5 [==============================] - 0s 30ms/step - loss: 1.3182 - acc: 0.3225\n",
      "Epoch 6/10\n",
      "5/5 [==============================] - 0s 27ms/step - loss: 1.3130 - acc: 0.2921\n",
      "Epoch 7/10\n",
      "5/5 [==============================] - 0s 25ms/step - loss: 1.3154 - acc: 0.3083\n",
      "Epoch 8/10\n",
      "5/5 [==============================] - 0s 23ms/step - loss: 1.3176 - acc: 0.2799\n",
      "Epoch 9/10\n",
      "5/5 [==============================] - 0s 26ms/step - loss: 1.3108 - acc: 0.3185\n",
      "Epoch 10/10\n",
      "5/5 [==============================] - 0s 27ms/step - loss: 1.3132 - acc: 0.2941\n",
      "Epoch 1/10\n",
      "5/5 [==============================] - 2s 32ms/step - loss: 1.3797 - acc: 0.3043\n",
      "Epoch 2/10\n",
      "5/5 [==============================] - 0s 29ms/step - loss: 1.3637 - acc: 0.3103\n",
      "Epoch 3/10\n",
      "5/5 [==============================] - 0s 29ms/step - loss: 1.3449 - acc: 0.3286\n",
      "Epoch 4/10\n",
      "5/5 [==============================] - 0s 29ms/step - loss: 1.3310 - acc: 0.3002\n",
      "Epoch 5/10\n",
      "5/5 [==============================] - 0s 28ms/step - loss: 1.3176 - acc: 0.3002\n",
      "Epoch 6/10\n",
      "5/5 [==============================] - 0s 30ms/step - loss: 1.3103 - acc: 0.3002\n",
      "Epoch 7/10\n",
      "5/5 [==============================] - 0s 30ms/step - loss: 1.3132 - acc: 0.3103\n",
      "Epoch 8/10\n",
      "5/5 [==============================] - 0s 27ms/step - loss: 1.3149 - acc: 0.2982\n",
      "Epoch 9/10\n",
      "5/5 [==============================] - 0s 28ms/step - loss: 1.3104 - acc: 0.3164\n",
      "Epoch 10/10\n",
      "5/5 [==============================] - 0s 29ms/step - loss: 1.3129 - acc: 0.3164\n"
     ]
    }
   ],
   "source": [
    "MODELS = {\"model_rnn\" : model_rnn,\n",
    "          \"model_lstm\" : model_lstm,\n",
    "          \"model_gru\" : model_gru\n",
    "         }\n",
    "\n",
    "for model_name, model in MODELS.items():\n",
    "    ## Train the model \n",
    "    model.compile(loss=\"sparse_categorical_crossentropy\", optimizer=\"adam\", metrics=[\"acc\"])\n",
    "    model.fit(x_train_no_emb, y_train, batch_size=100, epochs=10)"
   ]
  },
  {
   "cell_type": "code",
   "execution_count": 37,
   "metadata": {},
   "outputs": [
    {
     "name": "stdout",
     "output_type": "stream",
     "text": [
      "4/4 [==============================] - 0s 5ms/step - loss: 1.1513 - acc: 0.5865\n",
      "recall : 0.5865384615384616; precisicion : 0.5865384615384616\n",
      "4/4 [==============================] - 0s 5ms/step - loss: 1.1905 - acc: 0.6635\n",
      "recall : 0.6634615384615384; precisicion : 0.6634615384615384\n",
      "4/4 [==============================] - 0s 6ms/step - loss: 1.1697 - acc: 0.6635\n",
      "recall : 0.6634615384615384; precisicion : 0.6634615384615384\n"
     ]
    }
   ],
   "source": [
    "# test the models\n",
    "for model_name, model in MODELS.items():\n",
    "    # obtain metrics\n",
    "    accuracy = model.evaluate(x_test_no_emb, y_test, return_dict=True)['acc']\n",
    "    predictions = np.argmax(model.predict(x_test_no_emb), axis=1)\n",
    "    recall = recall_score(predictions, y_test, average='micro')\n",
    "    precision = precision_score(predictions, y_test, average='micro')\n",
    "    \n",
    "    print(f\"recall : {recall}; precisicion : {precision}\")"
   ]
  },
  {
   "cell_type": "code",
   "execution_count": 38,
   "metadata": {},
   "outputs": [
    {
     "name": "stdout",
     "output_type": "stream",
     "text": [
      "2/2 [==============================] - 0s 4ms/step - loss: 1.1970 - acc: 0.6500\n",
      "test index : 0\n",
      "recall : 0.65; precisicion : 0.65\n",
      "predicted : [2 2 2 2 2 2 3 2 2 3 2 2 2 2 2 2 2 2 2 3 2 2 2 1 2 3 2 2 2 2 2 2 2 2 2 2 2\n",
      " 2 2 1]\n",
      "truth : [2 2 2 0 0 2 2 2 2 2 0 2 0 2 2 1 2 2 2 2 2 2 0 2 2 0 2 2 2 1 2 2 2 2 0 2 2\n",
      " 2 2 2]\n",
      "2/2 [==============================] - 0s 5ms/step - loss: 1.1770 - acc: 0.7750\n",
      "test index : 0\n",
      "recall : 0.775; precisicion : 0.775\n",
      "predicted : [2 2 2 2 2 2 2 2 2 2 2 2 2 2 2 2 2 2 2 2 2 2 2 2 2 2 2 2 2 2 2 2 2 2 2 2 2\n",
      " 2 2 2]\n",
      "truth : [2 2 2 0 0 2 2 2 2 2 0 2 0 2 2 1 2 2 2 2 2 2 0 2 2 0 2 2 2 1 2 2 2 2 0 2 2\n",
      " 2 2 2]\n",
      "2/2 [==============================] - 0s 6ms/step - loss: 1.1517 - acc: 0.7750\n",
      "test index : 0\n",
      "recall : 0.775; precisicion : 0.775\n",
      "predicted : [2 2 2 2 2 2 2 2 2 2 2 2 2 2 2 2 2 2 2 2 2 2 2 2 2 2 2 2 2 2 2 2 2 2 2 2 2\n",
      " 2 2 2]\n",
      "truth : [2 2 2 0 0 2 2 2 2 2 0 2 0 2 2 1 2 2 2 2 2 2 0 2 2 0 2 2 2 1 2 2 2 2 0 2 2\n",
      " 2 2 2]\n",
      "1/1 [==============================] - 0s 17ms/step - loss: 1.0596 - acc: 0.6250\n",
      "test index : 1\n",
      "recall : 0.625; precisicion : 0.625\n",
      "predicted : [2 2 2 2 2 2 2 2 2 2 2 2 2 2 2 2 2 2 2 2 2 2 2 2]\n",
      "truth : [2 2 1 2 2 1 2 1 1 2 0 2 2 2 2 1 2 2 2 2 0 1 1 2]\n",
      "1/1 [==============================] - 0s 23ms/step - loss: 1.2073 - acc: 0.6250\n",
      "test index : 1\n",
      "recall : 0.625; precisicion : 0.625\n",
      "predicted : [2 2 2 2 2 2 2 2 2 2 2 2 2 2 2 2 2 2 2 2 2 2 2 2]\n",
      "truth : [2 2 1 2 2 1 2 1 1 2 0 2 2 2 2 1 2 2 2 2 0 1 1 2]\n",
      "1/1 [==============================] - 0s 20ms/step - loss: 1.1907 - acc: 0.6250\n",
      "test index : 1\n",
      "recall : 0.625; precisicion : 0.625\n",
      "predicted : [2 2 2 2 2 2 2 2 2 2 2 2 2 2 2 2 2 2 2 2 2 2 2 2]\n",
      "truth : [2 2 1 2 2 1 2 1 1 2 0 2 2 2 2 1 2 2 2 2 0 1 1 2]\n",
      "2/2 [==============================] - 0s 4ms/step - loss: 1.1607 - acc: 0.5000\n",
      "test index : 2\n",
      "recall : 0.5; precisicion : 0.5\n",
      "predicted : [3 2 2 2 2 3 2 2 2 2 2 2 0 2 2 2 0 2 2 2 2 3 2 2 2 2 2 2 2 2 2 2 2 2 2 2 0\n",
      " 2 2 2]\n",
      "truth : [1 2 2 2 0 1 2 2 0 2 0 1 2 0 2 1 2 0 0 0 2 1 1 2 2 2 0 2 1 0 2 2 2 2 0 2 2\n",
      " 2 2 2]\n",
      "2/2 [==============================] - 0s 6ms/step - loss: 1.1939 - acc: 0.5750\n",
      "test index : 2\n",
      "recall : 0.575; precisicion : 0.575\n",
      "predicted : [2 2 2 2 2 2 2 2 2 2 2 2 2 2 2 2 2 2 2 2 2 2 2 2 2 2 2 2 2 2 2 2 2 2 2 2 2\n",
      " 2 2 2]\n",
      "truth : [1 2 2 2 0 1 2 2 0 2 0 1 2 0 2 1 2 0 0 0 2 1 1 2 2 2 0 2 1 0 2 2 2 2 0 2 2\n",
      " 2 2 2]\n",
      "2/2 [==============================] - 0s 8ms/step - loss: 1.1750 - acc: 0.5750\n",
      "test index : 2\n",
      "recall : 0.575; precisicion : 0.575\n",
      "predicted : [2 2 2 2 2 2 2 2 2 2 2 2 2 2 2 2 2 2 2 2 2 2 2 2 2 2 2 2 2 2 2 2 2 2 2 2 2\n",
      " 2 2 2]\n",
      "truth : [1 2 2 2 0 1 2 2 0 2 0 1 2 0 2 1 2 0 0 0 2 1 1 2 2 2 0 2 1 0 2 2 2 2 0 2 2\n",
      " 2 2 2]\n"
     ]
    }
   ],
   "source": [
    "# test the models\n",
    "x_TESTS = [x_short, x_medium, x_long]\n",
    "y_TESTS = [y_short, y_medium, y_long]\n",
    "\n",
    "for ind, x_test_divided in enumerate(x_TESTS):\n",
    "    x_test_divided = np.array(x_test_divided)\n",
    "    y_test_divided = np.array(y_TESTS[ind])\n",
    "    for model_name, model in MODELS.items():\n",
    "        # obtain metrics\n",
    "        accuracy = model.evaluate(x_test_divided, y_test_divided, return_dict=True)['acc']\n",
    "        predictions = np.argmax(model.predict(x_test_divided), axis=1)\n",
    "        recall = recall_score(predictions, y_test_divided, average='micro')\n",
    "        precision = precision_score(predictions, y_test_divided, average='micro')\n",
    "\n",
    "        print(f\"test index : {ind}\")\n",
    "        print(f\"recall : {recall}; precisicion : {precision}\")\n",
    "        print(f\"predicted : {predictions}\")\n",
    "        print(f\"truth : {y_test_divided}\")"
   ]
  },
  {
   "cell_type": "markdown",
   "metadata": {},
   "source": [
    "# EMBEDDINGS\n",
    "The following section is focused on creating embeddings for the vectors."
   ]
  },
  {
   "cell_type": "code",
   "execution_count": 39,
   "metadata": {},
   "outputs": [],
   "source": [
    "# following were used to download the word embeddings for GLOVE \n",
    "\n",
    "# !wget http://nlp.stanford.edu/data/glove.6B.zip\n",
    "# !unzip -q glove.6B.zip"
   ]
  },
  {
   "cell_type": "code",
   "execution_count": 40,
   "metadata": {},
   "outputs": [
    {
     "name": "stdout",
     "output_type": "stream",
     "text": [
      "Found 400000 word vectors.\n"
     ]
    }
   ],
   "source": [
    "## Read the embeddings in the pretrained model (we are using the 100D version of GloVe)\n",
    "#####\n",
    "# COPIED FROM LECTURE\n",
    "####\n",
    "import os\n",
    "path_to_glove_file = \"glove.6B.100d.txt\"\n",
    "\n",
    "embeddings_index = {}\n",
    "with open(path_to_glove_file) as f:\n",
    "    for line in f:\n",
    "        word, coefs = line.split(maxsplit=1)\n",
    "        coefs = np.fromstring(coefs, \"f\", sep=\" \")\n",
    "        embeddings_index[word] = coefs\n",
    "\n",
    "print(\"Found %s word vectors.\" % len(embeddings_index))"
   ]
  },
  {
   "cell_type": "code",
   "execution_count": 41,
   "metadata": {},
   "outputs": [
    {
     "name": "stdout",
     "output_type": "stream",
     "text": [
      "Converted 1396 words (109 misses)\n"
     ]
    }
   ],
   "source": [
    "## Create \"embedding_matrix\" to index our vocabulary using the GloVe model\n",
    "#####\n",
    "# COPIED FROM LECTURE\n",
    "####\n",
    "num_tokens = len(voc) \n",
    "embedding_dim = 100 ## 100 dimensions\n",
    "hits = 0 ## number of words that were found in the pretrained model\n",
    "misses = 0 ## number of words that were missing in the pretrained model\n",
    "\n",
    "# Prepare embedding matrix for our word list\n",
    "embedding_matrix_glove = np.zeros((num_tokens, embedding_dim))\n",
    "for word, i in word_index.items():\n",
    "    embedding_vector = embeddings_index.get(word)\n",
    "    if embedding_vector is not None:\n",
    "        # Words not found in embedding index will be all-zeros.\n",
    "        # This includes the representation for \"padding\" and \"OOV\"\n",
    "        embedding_matrix_glove[i] = embedding_vector\n",
    "        hits += 1\n",
    "    else:\n",
    "        misses += 1\n",
    "print(\"Converted %d words (%d misses)\" % (hits, misses))"
   ]
  },
  {
   "cell_type": "code",
   "execution_count": 42,
   "metadata": {},
   "outputs": [],
   "source": [
    "# open the model\n",
    "glove_input_file = 'glove.6B.100d.txt'\n",
    "word2vec_output_file = 'glove.6B.100d.txt.word2vec'\n",
    "# glove2word2vec(glove_input_file, word2vec_output_file)\n",
    "embeddings_index = KeyedVectors.load_word2vec_format(word2vec_output_file, binary=False)"
   ]
  },
  {
   "cell_type": "code",
   "execution_count": 43,
   "metadata": {},
   "outputs": [
    {
     "name": "stdout",
     "output_type": "stream",
     "text": [
      "Converted 1396 words (109 misses)\n"
     ]
    }
   ],
   "source": [
    "## Create \"embedding_matrix\" to index our vocabulary using the word2vec model\n",
    "#####\n",
    "# COPIED FROM LECTURE\n",
    "####\n",
    "num_tokens = len(voc) \n",
    "embedding_dim = 100 ## 100 dimensions\n",
    "hits = 0 ## number of words that were found in the pretrained model\n",
    "misses = 0 ## number of words that were missing in the pretrained model\n",
    "\n",
    "# Prepare embedding matrix for our word list\n",
    "embedding_matrix_w2v = np.zeros((num_tokens, embedding_dim))\n",
    "for word, i in word_index.items():\n",
    "    if word in embeddings_index:\n",
    "        embedding_vector = embeddings_index[word]\n",
    "    else:\n",
    "        embedding_vector = None\n",
    "    if embedding_vector is not None:\n",
    "        # Words not found in embedding index will be all-zeros.\n",
    "        # This includes the representation for \"padding\" and \"OOV\"\n",
    "        embedding_matrix_w2v[i] = embedding_vector\n",
    "        hits += 1\n",
    "    else:\n",
    "        misses += 1\n",
    "print(\"Converted %d words (%d misses)\" % (hits, misses))"
   ]
  },
  {
   "cell_type": "markdown",
   "metadata": {},
   "source": [
    "# MODEL CREATION - with Embeddings\n",
    "This section outline creating models.\n",
    "\n",
    "The following models are:\n",
    "\n",
    "    1. LSTM\n",
    "    2. Bidirectional LSTM (for FUN!)\n",
    "\n",
    "With the following embeddings:\n",
    "\n",
    "    1. GloVe\n",
    "    2. word2vec"
   ]
  },
  {
   "cell_type": "code",
   "execution_count": 44,
   "metadata": {},
   "outputs": [],
   "source": [
    "#####\n",
    "# Glove embedded Layer\n",
    "#####\n",
    "glove_embedding_layer = Embedding(num_tokens, embedding_dim,\n",
    "                                  embeddings_initializer= Constant(embedding_matrix_glove), \n",
    "                                  trainable=False)\n",
    "#####\n",
    "# word2vec embedded Layer\n",
    "#####\n",
    "w2v_embedding_layer = Embedding(num_tokens, embedding_dim,\n",
    "                                  embeddings_initializer= Constant(embedding_matrix_w2v), \n",
    "                                  trainable=False)"
   ]
  },
  {
   "cell_type": "code",
   "execution_count": 45,
   "metadata": {},
   "outputs": [
    {
     "name": "stdout",
     "output_type": "stream",
     "text": [
      "Model: \"model_4\"\n",
      "_________________________________________________________________\n",
      " Layer (type)                Output Shape              Param #   \n",
      "=================================================================\n",
      " input_5 (InputLayer)        [(None, None)]            0         \n",
      "                                                                 \n",
      " embedding_2 (Embedding)     (None, None, 100)         150500    \n",
      "                                                                 \n",
      " lstm_8 (LSTM)               (None, 20)                9680      \n",
      "                                                                 \n",
      " dense_16 (Dense)            (None, 4)                 84        \n",
      "                                                                 \n",
      "=================================================================\n",
      "Total params: 160,264\n",
      "Trainable params: 9,764\n",
      "Non-trainable params: 150,500\n",
      "_________________________________________________________________\n",
      "Model: \"model_5\"\n",
      "_________________________________________________________________\n",
      " Layer (type)                Output Shape              Param #   \n",
      "=================================================================\n",
      " input_6 (InputLayer)        [(None, None)]            0         \n",
      "                                                                 \n",
      " embedding_3 (Embedding)     (None, None, 100)         150500    \n",
      "                                                                 \n",
      " lstm_9 (LSTM)               (None, 20)                9680      \n",
      "                                                                 \n",
      " dense_17 (Dense)            (None, 4)                 84        \n",
      "                                                                 \n",
      "=================================================================\n",
      "Total params: 160,264\n",
      "Trainable params: 9,764\n",
      "Non-trainable params: 150,500\n",
      "_________________________________________________________________\n",
      "Model: \"model_6\"\n",
      "_________________________________________________________________\n",
      " Layer (type)                Output Shape              Param #   \n",
      "=================================================================\n",
      " input_7 (InputLayer)        [(None, None)]            0         \n",
      "                                                                 \n",
      " embedding_2 (Embedding)     (None, None, 100)         150500    \n",
      "                                                                 \n",
      " bidirectional_4 (Bidirectio  (None, None, 40)         19360     \n",
      " nal)                                                            \n",
      "                                                                 \n",
      " bidirectional_5 (Bidirectio  (None, 40)               9760      \n",
      " nal)                                                            \n",
      "                                                                 \n",
      " dense_18 (Dense)            (None, 4)                 164       \n",
      "                                                                 \n",
      "=================================================================\n",
      "Total params: 179,784\n",
      "Trainable params: 29,284\n",
      "Non-trainable params: 150,500\n",
      "_________________________________________________________________\n",
      "Model: \"model_7\"\n",
      "_________________________________________________________________\n",
      " Layer (type)                Output Shape              Param #   \n",
      "=================================================================\n",
      " input_8 (InputLayer)        [(None, None)]            0         \n",
      "                                                                 \n",
      " embedding_3 (Embedding)     (None, None, 100)         150500    \n",
      "                                                                 \n",
      " bidirectional_6 (Bidirectio  (None, None, 40)         19360     \n",
      " nal)                                                            \n",
      "                                                                 \n",
      " bidirectional_7 (Bidirectio  (None, 40)               9760      \n",
      " nal)                                                            \n",
      "                                                                 \n",
      " dense_19 (Dense)            (None, 4)                 164       \n",
      "                                                                 \n",
      "=================================================================\n",
      "Total params: 179,784\n",
      "Trainable params: 29,284\n",
      "Non-trainable params: 150,500\n",
      "_________________________________________________________________\n"
     ]
    }
   ],
   "source": [
    "######\n",
    "# Simple LSTM - with GloVe\n",
    "######\n",
    "int_sequences_input = Input(shape=(None,), dtype=\"int64\")\n",
    "embedded_sequences = glove_embedding_layer(int_sequences_input)\n",
    "x = layers.LSTM(20)(embedded_sequences)\n",
    "preds = layers.Dense(len(set(train_labels)), activation=\"softmax\")(x)\n",
    "model_lstm_glove = Model(int_sequences_input, preds)\n",
    "model_lstm_glove.summary()\n",
    "######\n",
    "# Simple LSTM - with word2vec\n",
    "######\n",
    "int_sequences_input = Input(shape=(None,), dtype=\"int64\")\n",
    "embedded_sequences = w2v_embedding_layer(int_sequences_input)\n",
    "x = layers.LSTM(20)(embedded_sequences)\n",
    "preds = layers.Dense(len(set(train_labels)), activation=\"softmax\")(x)\n",
    "model_lstm_w2v = Model(int_sequences_input, preds)\n",
    "model_lstm_w2v.summary()\n",
    "\n",
    "######\n",
    "# Bidirectional LSTM - with GloVe\n",
    "######\n",
    "int_sequences_input = Input(shape=(None,), dtype=\"int64\")\n",
    "embedded_sequences = glove_embedding_layer(int_sequences_input)\n",
    "x = layers.Bidirectional(layers.LSTM(20, return_sequences=True))(embedded_sequences)\n",
    "x = layers.Bidirectional(layers.LSTM(20))(x)\n",
    "preds = layers.Dense(len(set(train_labels)), activation=\"softmax\")(x)\n",
    "model_lstm_glove = Model(int_sequences_input, preds)\n",
    "model_lstm_glove.summary()\n",
    "######\n",
    "# Bidirectional LSTM - with word2vec\n",
    "######\n",
    "int_sequences_input = Input(shape=(None,), dtype=\"int64\")\n",
    "embedded_sequences = w2v_embedding_layer(int_sequences_input)\n",
    "x = layers.Bidirectional(layers.LSTM(20, return_sequences=True))(embedded_sequences)\n",
    "x = layers.Bidirectional(layers.LSTM(20))(x)\n",
    "preds = layers.Dense(len(set(train_labels)), activation=\"softmax\")(x)\n",
    "model_lstm_w2v = Model(int_sequences_input, preds)\n",
    "model_lstm_w2v.summary()"
   ]
  },
  {
   "cell_type": "code",
   "execution_count": 46,
   "metadata": {},
   "outputs": [
    {
     "name": "stdout",
     "output_type": "stream",
     "text": [
      "Epoch 1/10\n",
      "4/4 [==============================] - 9s 504ms/step - loss: 1.3779 - acc: 0.3022 - val_loss: 1.2796 - val_acc: 0.5905\n",
      "Epoch 2/10\n",
      "4/4 [==============================] - 0s 104ms/step - loss: 1.3352 - acc: 0.3367 - val_loss: 1.2321 - val_acc: 0.5905\n",
      "Epoch 3/10\n",
      "4/4 [==============================] - 0s 102ms/step - loss: 1.3131 - acc: 0.3773 - val_loss: 1.1987 - val_acc: 0.5333\n",
      "Epoch 4/10\n",
      "4/4 [==============================] - 0s 103ms/step - loss: 1.2986 - acc: 0.4118 - val_loss: 1.1690 - val_acc: 0.5238\n",
      "Epoch 5/10\n",
      "4/4 [==============================] - 0s 104ms/step - loss: 1.2846 - acc: 0.4544 - val_loss: 1.1413 - val_acc: 0.6000\n",
      "Epoch 6/10\n",
      "4/4 [==============================] - 0s 106ms/step - loss: 1.2725 - acc: 0.4625 - val_loss: 1.1106 - val_acc: 0.6476\n",
      "Epoch 7/10\n",
      "4/4 [==============================] - 0s 103ms/step - loss: 1.2561 - acc: 0.5112 - val_loss: 1.1159 - val_acc: 0.6095\n",
      "Epoch 8/10\n",
      "4/4 [==============================] - 0s 107ms/step - loss: 1.2347 - acc: 0.5558 - val_loss: 1.1099 - val_acc: 0.6000\n",
      "Epoch 9/10\n",
      "4/4 [==============================] - 0s 105ms/step - loss: 1.2084 - acc: 0.5720 - val_loss: 1.1066 - val_acc: 0.5619\n",
      "Epoch 10/10\n",
      "4/4 [==============================] - 0s 107ms/step - loss: 1.1796 - acc: 0.5822 - val_loss: 1.0746 - val_acc: 0.5905\n",
      "Epoch 1/10\n",
      "4/4 [==============================] - 7s 593ms/step - loss: 1.3703 - acc: 0.3043 - val_loss: 1.2729 - val_acc: 0.6571\n",
      "Epoch 2/10\n",
      "4/4 [==============================] - 0s 109ms/step - loss: 1.3400 - acc: 0.3124 - val_loss: 1.2123 - val_acc: 0.6571\n",
      "Epoch 3/10\n",
      "4/4 [==============================] - 0s 107ms/step - loss: 1.3187 - acc: 0.3205 - val_loss: 1.1865 - val_acc: 0.6667\n",
      "Epoch 4/10\n",
      "4/4 [==============================] - 0s 114ms/step - loss: 1.3009 - acc: 0.3347 - val_loss: 1.1661 - val_acc: 0.6571\n",
      "Epoch 5/10\n",
      "4/4 [==============================] - 0s 114ms/step - loss: 1.2889 - acc: 0.3793 - val_loss: 1.1611 - val_acc: 0.6000\n",
      "Epoch 6/10\n",
      "4/4 [==============================] - 0s 109ms/step - loss: 1.2724 - acc: 0.5132 - val_loss: 1.1542 - val_acc: 0.5619\n",
      "Epoch 7/10\n",
      "4/4 [==============================] - 0s 107ms/step - loss: 1.2547 - acc: 0.5335 - val_loss: 1.1438 - val_acc: 0.5524\n",
      "Epoch 8/10\n",
      "4/4 [==============================] - 0s 106ms/step - loss: 1.2301 - acc: 0.5538 - val_loss: 1.1361 - val_acc: 0.4857\n",
      "Epoch 9/10\n",
      "4/4 [==============================] - 0s 115ms/step - loss: 1.1992 - acc: 0.5720 - val_loss: 1.1004 - val_acc: 0.5429\n",
      "Epoch 10/10\n",
      "4/4 [==============================] - 0s 110ms/step - loss: 1.1611 - acc: 0.5923 - val_loss: 1.0775 - val_acc: 0.5810\n",
      "Epoch 1/10\n",
      "4/4 [==============================] - 6s 531ms/step - loss: 1.1510 - acc: 0.5882 - val_loss: 1.0236 - val_acc: 0.6286\n",
      "Epoch 2/10\n",
      "4/4 [==============================] - 0s 107ms/step - loss: 1.1125 - acc: 0.6166 - val_loss: 0.9926 - val_acc: 0.6571\n",
      "Epoch 3/10\n",
      "4/4 [==============================] - 0s 104ms/step - loss: 1.0781 - acc: 0.6146 - val_loss: 0.9989 - val_acc: 0.6476\n",
      "Epoch 4/10\n",
      "4/4 [==============================] - 0s 106ms/step - loss: 1.0425 - acc: 0.6389 - val_loss: 0.9871 - val_acc: 0.6190\n",
      "Epoch 5/10\n",
      "4/4 [==============================] - 0s 104ms/step - loss: 1.0037 - acc: 0.6572 - val_loss: 0.9270 - val_acc: 0.7048\n",
      "Epoch 6/10\n",
      "4/4 [==============================] - 0s 103ms/step - loss: 0.9647 - acc: 0.6552 - val_loss: 0.9071 - val_acc: 0.6952\n",
      "Epoch 7/10\n",
      "4/4 [==============================] - 0s 102ms/step - loss: 0.9251 - acc: 0.6734 - val_loss: 0.8978 - val_acc: 0.6667\n",
      "Epoch 8/10\n",
      "4/4 [==============================] - 0s 104ms/step - loss: 0.8912 - acc: 0.6957 - val_loss: 0.8422 - val_acc: 0.7048\n",
      "Epoch 9/10\n",
      "4/4 [==============================] - 0s 105ms/step - loss: 0.8539 - acc: 0.6998 - val_loss: 0.8376 - val_acc: 0.7143\n",
      "Epoch 10/10\n",
      "4/4 [==============================] - 0s 104ms/step - loss: 0.8138 - acc: 0.7160 - val_loss: 0.8040 - val_acc: 0.7429\n",
      "Epoch 1/10\n",
      "4/4 [==============================] - 7s 496ms/step - loss: 1.1286 - acc: 0.5862 - val_loss: 1.0506 - val_acc: 0.6095\n",
      "Epoch 2/10\n",
      "4/4 [==============================] - 0s 104ms/step - loss: 1.0884 - acc: 0.6146 - val_loss: 1.0481 - val_acc: 0.5524\n",
      "Epoch 3/10\n",
      "4/4 [==============================] - 0s 103ms/step - loss: 1.0526 - acc: 0.6349 - val_loss: 1.0234 - val_acc: 0.5810\n",
      "Epoch 4/10\n",
      "4/4 [==============================] - 0s 109ms/step - loss: 1.0197 - acc: 0.6410 - val_loss: 0.9924 - val_acc: 0.6286\n",
      "Epoch 5/10\n",
      "4/4 [==============================] - 0s 103ms/step - loss: 0.9819 - acc: 0.6592 - val_loss: 0.9702 - val_acc: 0.6190\n",
      "Epoch 6/10\n",
      "4/4 [==============================] - 0s 104ms/step - loss: 0.9474 - acc: 0.6755 - val_loss: 0.9583 - val_acc: 0.6381\n",
      "Epoch 7/10\n",
      "4/4 [==============================] - 0s 116ms/step - loss: 0.9115 - acc: 0.6856 - val_loss: 0.9161 - val_acc: 0.6571\n",
      "Epoch 8/10\n",
      "4/4 [==============================] - 0s 106ms/step - loss: 0.8776 - acc: 0.7079 - val_loss: 0.8821 - val_acc: 0.6762\n",
      "Epoch 9/10\n",
      "4/4 [==============================] - 0s 103ms/step - loss: 0.8454 - acc: 0.7018 - val_loss: 0.8897 - val_acc: 0.6476\n",
      "Epoch 10/10\n",
      "4/4 [==============================] - 0s 105ms/step - loss: 0.8189 - acc: 0.7201 - val_loss: 0.8823 - val_acc: 0.6286\n"
     ]
    }
   ],
   "source": [
    "emb_MODELS = {\"LSTM (glove)\" : model_lstm_glove,\n",
    "          \"LSTM (word2vec)\" : model_lstm_w2v,\n",
    "          \"Bi-LSTM (glove)\" : model_lstm_glove,\n",
    "          \"Bi-LSTM (word2vec)\" : model_lstm_w2v,\n",
    "         }\n",
    "for model_name, model in emb_MODELS.items():\n",
    "    ## Train the model \n",
    "    model.compile(loss=\"sparse_categorical_crossentropy\", optimizer=\"adam\", metrics=[\"acc\"])\n",
    "    model.fit(x_train, y_train, batch_size=128, epochs=10, validation_data=(x_val, y_val))"
   ]
  },
  {
   "cell_type": "code",
   "execution_count": 47,
   "metadata": {},
   "outputs": [
    {
     "name": "stdout",
     "output_type": "stream",
     "text": [
      "4/4 [==============================] - 0s 13ms/step - loss: 0.9427 - acc: 0.6154\n",
      "recall : 0.6153846153846154; precisicion : 0.6153846153846154\n"
     ]
    },
    {
     "data": {
      "image/png": "[encoded data removed]",
      "text/plain": [
       "<Figure size 432x288 with 1 Axes>"
      ]
     },
     "metadata": {
      "needs_background": "light"
     },
     "output_type": "display_data"
    },
    {
     "name": "stdout",
     "output_type": "stream",
     "text": [
      "4/4 [==============================] - 0s 12ms/step - loss: 0.9349 - acc: 0.6827\n",
      "recall : 0.6826923076923077; precisicion : 0.6826923076923077\n"
     ]
    },
    {
     "data": {
      "image/png": "[encoded data removed]",
      "text/plain": [
       "<Figure size 432x288 with 1 Axes>"
      ]
     },
     "metadata": {
      "needs_background": "light"
     },
     "output_type": "display_data"
    },
    {
     "name": "stdout",
     "output_type": "stream",
     "text": [
      "4/4 [==============================] - 0s 11ms/step - loss: 0.9427 - acc: 0.6154\n",
      "recall : 0.6153846153846154; precisicion : 0.6153846153846154\n"
     ]
    },
    {
     "data": {
      "image/png": "[encoded data removed]",
      "text/plain": [
       "<Figure size 432x288 with 1 Axes>"
      ]
     },
     "metadata": {
      "needs_background": "light"
     },
     "output_type": "display_data"
    },
    {
     "name": "stdout",
     "output_type": "stream",
     "text": [
      "4/4 [==============================] - 0s 10ms/step - loss: 0.9349 - acc: 0.6827\n",
      "recall : 0.6826923076923077; precisicion : 0.6826923076923077\n"
     ]
    },
    {
     "data": {
      "image/png": "[encoded data removed]",
      "text/plain": [
       "<Figure size 432x288 with 1 Axes>"
      ]
     },
     "metadata": {
      "needs_background": "light"
     },
     "output_type": "display_data"
    }
   ],
   "source": [
    "## Train the model \n",
    "for model_name, model in emb_MODELS.items():\n",
    "    # obtain metrics\n",
    "    accuracy = model.evaluate(x_test, y_test, return_dict=True)['acc']\n",
    "    predictions = np.argmax(model.predict(x_test), axis=1)\n",
    "    recall = recall_score(predictions, y_test, average='micro')\n",
    "    precision = precision_score(predictions, y_test, average='micro')\n",
    "    conf_matrix = confusion_matrix(predictions, y_test)\n",
    "    print(f\"recall : {recall}; precisicion : {precision}\")\n",
    "    plt.imshow(conf_matrix)\n",
    "    labels = index2meaning.keys()\n",
    "    plt.title(f\"Confusion Matrix for {model_name}\")\n",
    "    plt.yticks(range(len(labels)), labels)\n",
    "    plt.xticks(range(len(labels)), labels)\n",
    "    plt.ylabel(\"TRUE\")\n",
    "    plt.xlabel(\"PREDICTED\")\n",
    "    plt.show()"
   ]
  },
  {
   "cell_type": "code",
   "execution_count": null,
   "metadata": {},
   "outputs": [],
   "source": []
  },
  {
   "cell_type": "code",
   "execution_count": null,
   "metadata": {},
   "outputs": [],
   "source": []
  },
  {
   "cell_type": "code",
   "execution_count": null,
   "metadata": {},
   "outputs": [],
   "source": []
  }
 ],
 "metadata": {
  "kernelspec": {
   "display_name": "Python 3",
   "language": "python",
   "name": "python3"
  },
  "language_info": {
   "codemirror_mode": {
    "name": "ipython",
    "version": 3
   },
   "file_extension": ".py",
   "mimetype": "text/x-python",
   "name": "python",
   "nbconvert_exporter": "python",
   "pygments_lexer": "ipython3",
   "version": "3.7.9"
  }
 },
 "nbformat": 4,
 "nbformat_minor": 4
}
